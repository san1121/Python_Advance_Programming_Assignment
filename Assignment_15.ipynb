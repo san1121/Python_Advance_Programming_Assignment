{
 "cells": [
  {
   "cell_type": "markdown",
   "id": "outside-annotation",
   "metadata": {},
   "source": [
    "1. Write a function that returns True if a given name can generate an array of words.\n",
    "\n",
    "__Ans:-__"
   ]
  },
  {
   "cell_type": "code",
   "execution_count": 1,
   "id": "average-reliance",
   "metadata": {},
   "outputs": [
    {
     "name": "stdout",
     "output_type": "stream",
     "text": [
      "True\n",
      "True\n",
      "False\n",
      "False\n"
     ]
    }
   ],
   "source": [
    "def anagram(string, lis):\n",
    "    freq = dict()\n",
    "    for char in string.lower():\n",
    "        if char != ' ':\n",
    "            freq[char] = freq.get(char, 0) + 1\n",
    "    for word in lis:\n",
    "        for char in word:\n",
    "            freq[char] = freq.get(char, 0) - 1\n",
    "            if freq[char] < 0:\n",
    "                return False\n",
    "            elif freq[char] == 0:\n",
    "                freq.pop(char)\n",
    "    return True if not len(freq) else False\n",
    "\n",
    "print(anagram(\"Justin Bieber\", [\"injures\", \"ebb\", \"it\"]) )\n",
    "print(anagram(\"Natalie Portman\", [\"ornamental\", \"pita\"]))\n",
    "print(anagram(\"Chris Pratt\", [\"chirps\", \"rat\"]))\n",
    "print(anagram(\"Jeff Goldblum\", [\"jog\", \"meld\", \"bluffs\"]))"
   ]
  },
  {
   "cell_type": "markdown",
   "id": "operational-nursing",
   "metadata": {},
   "source": [
    "***"
   ]
  },
  {
   "cell_type": "markdown",
   "id": "reserved-question",
   "metadata": {},
   "source": [
    "2. Given an array of users, each defined by an object with the following properties: name, score, reputation create a function that sorts the array to form the correct leaderboard.\n",
    "\n",
    "    The leaderboard takes into consideration the score of each user of course, but an emphasis is put on their reputation in the community, so to get the trueScore, you should add the reputation multiplied by 2 to the score.\n",
    "\n",
    "    Once you know the trueScore of each user, sort the array according to it in descending order.\n",
    "    \n",
    "__Ans:-__\n"
   ]
  },
  {
   "cell_type": "code",
   "execution_count": 2,
   "id": "liked-leone",
   "metadata": {},
   "outputs": [
    {
     "name": "stdout",
     "output_type": "stream",
     "text": [
      "[{'name': 'c', 'score': 115, 'reputation': 30}, {'name': 'b', 'score': 90, 'reputation': 40}, {'name': 'a', 'score': 100, 'reputation': 20}]\n"
     ]
    }
   ],
   "source": [
    "def leaderboards(lis):\n",
    "    return sorted(lis, key = lambda x : x['reputation'] * 2 + x['score'], reverse = True)\n",
    "\n",
    "print(leaderboards([\n",
    "  { \"name\": \"a\", \"score\": 100, \"reputation\": 20 },\n",
    "  { \"name\": \"b\", \"score\": 90, \"reputation\": 40 },\n",
    "  { \"name\": \"c\", \"score\": 115, \"reputation\": 30 },\n",
    "])\n",
    ")"
   ]
  },
  {
   "cell_type": "markdown",
   "id": "current-pearl",
   "metadata": {},
   "source": [
    "***"
   ]
  },
  {
   "cell_type": "markdown",
   "id": "racial-fraction",
   "metadata": {},
   "source": [
    "3. Create a function that, given a phrase and a number of letters guessed, returns a string with hyphens - for every letter of the phrase not guessed, and each letter guessed in place.\n",
    "\n",
    "__Ans:-__"
   ]
  },
  {
   "cell_type": "code",
   "execution_count": 3,
   "id": "talented-character",
   "metadata": {},
   "outputs": [
    {
     "name": "stdout",
     "output_type": "stream",
     "text": [
      "-e---o--e-\n",
      "tree\n",
      "P----n-r----\n",
      "-e---a--e-y--a----y---y-\n"
     ]
    }
   ],
   "source": [
    "def hangman(string, lis):\n",
    "    returned_string = []\n",
    "    # Set is used just to decrease the overall time complexity\n",
    "    set_list = set(lis)\n",
    "    for char in string:\n",
    "        if char.lower() not in set_list:\n",
    "            returned_string.append('-')\n",
    "        else:\n",
    "            returned_string.append(char)\n",
    "    return ''.join(returned_string)\n",
    "\n",
    "print(hangman(\"helicopter\", [\"o\", \"e\", \"s\"]) )\n",
    "print(hangman(\"tree\", [\"r\", \"t\", \"e\"]))\n",
    "print(hangman(\"Python rules\", [\"a\", \"n\", \"p\", \"r\", \"z\"]))\n",
    "print(hangman(\"He\\\"s a very naughty boy!\", [\"e\", \"a\", \"y\"]))"
   ]
  },
  {
   "cell_type": "markdown",
   "id": "ceramic-import",
   "metadata": {},
   "source": [
    "***"
   ]
  },
  {
   "cell_type": "markdown",
   "id": "handed-gasoline",
   "metadata": {},
   "source": [
    "4. The Collatz sequence is as follows:\n",
    "\n",
    "  - Start with some given integer n.\n",
    "  - If it is even, the next number will be n divided by 2.\n",
    "  - If it is odd, multiply it by 3 and add 1 to make the next number.\n",
    "  - The sequence stops when it reaches 1.\n",
    "\n",
    "    According to the Collatz conjecture, it will always reach 1. If that's true, you can construct a finite sequence following the aforementioned method for any given integer.\n",
    "\n",
    "    Write a function that takes in an integer n and returns the highest integer in the corresponding Collatz sequence.\n",
    "\n",
    "__Ans:-__"
   ]
  },
  {
   "cell_type": "code",
   "execution_count": 4,
   "id": "established-compression",
   "metadata": {},
   "outputs": [
    {
     "name": "stdout",
     "output_type": "stream",
     "text": [
      "16\n",
      "32\n",
      "256\n"
     ]
    }
   ],
   "source": [
    "def helper(num, max_num):\n",
    "    if num == 1:\n",
    "        return max_num\n",
    "    max_num = max(num, max_num)\n",
    "    return helper(num //2 , max_num) if not num % 2 else helper(3 * num + 1, max_num)\n",
    "\n",
    "def max_collatz(num):\n",
    "    max_num = float('-inf')\n",
    "    return helper(num, max_num)\n",
    "    \n",
    "print(max_collatz(10))\n",
    "print(max_collatz(32))\n",
    "print(max_collatz(85))"
   ]
  },
  {
   "cell_type": "markdown",
   "id": "prescribed-funeral",
   "metadata": {},
   "source": [
    "***"
   ]
  },
  {
   "cell_type": "markdown",
   "id": "broadband-welcome",
   "metadata": {},
   "source": [
    "5. Write a function that sorts a list of integers by their digit length in descending order, then settles ties by sorting numbers with the same digit length in ascending order.\n",
    "\n",
    "__Ans:-__"
   ]
  },
  {
   "cell_type": "code",
   "execution_count": 5,
   "id": "irish-desert",
   "metadata": {},
   "outputs": [
    {
     "name": "stdout",
     "output_type": "stream",
     "text": [
      "[101, 23, 77, 5, 7]\n",
      "[444, 563, 789, 1, 2, 5, 9]\n",
      "[53219, 3772, 564, 32, 1]\n"
     ]
    }
   ],
   "source": [
    "def create_list(lis):\n",
    "    length = 1\n",
    "    start = 0\n",
    "    end = 0\n",
    "    nested_list = []\n",
    "    for i in lis:\n",
    "        if len(str(i)) > length:\n",
    "            length = len(str(i))\n",
    "            nested_list.append(lis[start : end])\n",
    "            start = end\n",
    "            \n",
    "        end += 1\n",
    "    nested_list.append(lis[start : end + 1])\n",
    "    return nested_list[::-1]\n",
    "\n",
    "def digit_sort(lis):\n",
    "    returned_list = sorted(sorted(lis, key = lambda x : (len(str(x)), x)))    \n",
    "    returned_list = create_list(returned_list)\n",
    "    return [num for i in returned_list for num in i]\n",
    "    \n",
    "print(digit_sort([77, 23, 5, 7, 101]))\n",
    "print(digit_sort([1, 5, 9, 2, 789, 563, 444]))\n",
    "print(digit_sort([53219, 3772, 564, 32, 1]))"
   ]
  },
  {
   "cell_type": "code",
   "execution_count": null,
   "id": "demographic-depth",
   "metadata": {},
   "outputs": [],
   "source": []
  }
 ],
 "metadata": {
  "kernelspec": {
   "display_name": "Python 3",
   "language": "python",
   "name": "python3"
  },
  "language_info": {
   "codemirror_mode": {
    "name": "ipython",
    "version": 3
   },
   "file_extension": ".py",
   "mimetype": "text/x-python",
   "name": "python",
   "nbconvert_exporter": "python",
   "pygments_lexer": "ipython3",
   "version": "3.8.7"
  }
 },
 "nbformat": 4,
 "nbformat_minor": 5
}

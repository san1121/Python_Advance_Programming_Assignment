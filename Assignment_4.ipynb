{
 "cells": [
  {
   "cell_type": "markdown",
   "id": "based-luxury",
   "metadata": {},
   "source": [
    "1. The function fastFib(num) returns the fibonacci number Fn, of the given num as an argument.\n",
    "\n",
    "__Ans:-__"
   ]
  },
  {
   "cell_type": "code",
   "execution_count": 1,
   "id": "covered-sector",
   "metadata": {},
   "outputs": [
    {
     "name": "stdout",
     "output_type": "stream",
     "text": [
      "6765\n",
      "12586269025\n"
     ]
    }
   ],
   "source": [
    "def fib_fast(num):\n",
    "    fib_seq = [0, 1]\n",
    "    \n",
    "    if num <= 1:\n",
    "        return fib_seq[num]\n",
    "    \n",
    "    for i in range(2, num + 1):\n",
    "        temp = fib_seq[1]\n",
    "        fib_seq[1] += fib_seq[0]\n",
    "        fib_seq[0] = temp\n",
    "        \n",
    "    return fib_seq[1]\n",
    "\n",
    "print(fib_fast(20))\n",
    "print(fib_fast(50))"
   ]
  },
  {
   "cell_type": "markdown",
   "id": "described-pixel",
   "metadata": {},
   "source": [
    "***"
   ]
  },
  {
   "cell_type": "markdown",
   "id": "surprised-search",
   "metadata": {},
   "source": [
    "2. Create a function that takes a strings characters as ASCII and returns each characters hexadecimal value as a string.\n",
    "\n",
    "__Ans:-__"
   ]
  },
  {
   "cell_type": "code",
   "execution_count": 2,
   "id": "wireless-essex",
   "metadata": {},
   "outputs": [
    {
     "name": "stdout",
     "output_type": "stream",
     "text": [
      "68 65 6c 6c 6f 20 77 6f 72 6c 64\n",
      "4d 61 72 74 79 20 50 6f 70 70 69 6e 73 6f 6e\n"
     ]
    }
   ],
   "source": [
    "def convert_to_hex(string):\n",
    "    return ' '.join(list(map(lambda x : hex(ord(x))[2:], string)))\n",
    "\n",
    "print(convert_to_hex('hello world'))\n",
    "print(convert_to_hex(\"Marty Poppinson\"))"
   ]
  },
  {
   "cell_type": "markdown",
   "id": "rational-exclusive",
   "metadata": {},
   "source": [
    "***"
   ]
  },
  {
   "cell_type": "markdown",
   "id": "reasonable-firmware",
   "metadata": {},
   "source": [
    "3. Someone has attempted to censor my strings by replacing every vowel with a *, l*k* th*s. Luckily, I've been able to find the vowels that were removed.\n",
    "\n",
    "    Given a censored string and a string of the censored vowels, return the original uncensored string.\n",
    "\n",
    "__Ans:-__"
   ]
  },
  {
   "cell_type": "code",
   "execution_count": 3,
   "id": "modified-property",
   "metadata": {},
   "outputs": [
    {
     "name": "stdout",
     "output_type": "stream",
     "text": [
      "Where did my vowels go?\n",
      "abcd\n",
      "UPPERCASE\n"
     ]
    }
   ],
   "source": [
    "def uncensor(string, vowels):\n",
    "    if len(vowels) == 0:\n",
    "        return string\n",
    "    new_string = ''\n",
    "    vowels_pointer = 0\n",
    "    for i in string:\n",
    "        if i == '*':\n",
    "            new_string += vowels[vowels_pointer]\n",
    "            vowels_pointer += 1\n",
    "        else:\n",
    "            new_string += i\n",
    "    return new_string\n",
    "print(uncensor(\"Wh*r* d*d my v*w*ls g*?\", \"eeioeo\"))\n",
    "print(uncensor(\"abcd\", \"\"))\n",
    "print(uncensor(\"*PP*RC*S*\", \"UEAE\"))"
   ]
  },
  {
   "cell_type": "markdown",
   "id": "handy-tension",
   "metadata": {},
   "source": [
    "***"
   ]
  },
  {
   "cell_type": "markdown",
   "id": "durable-december",
   "metadata": {},
   "source": [
    "4. Write a function that takes an IP address and returns the domain name using PTR DNS records.\n",
    "\n",
    "__Ans:-__"
   ]
  },
  {
   "cell_type": "code",
   "execution_count": 4,
   "id": "threatened-joyce",
   "metadata": {},
   "outputs": [
    {
     "name": "stdout",
     "output_type": "stream",
     "text": [
      "dns.google.\n",
      "dns.google.\n"
     ]
    }
   ],
   "source": [
    "import dns.resolver\n",
    "def get_domain(ip):\n",
    "    return list(dns.resolver.resolve_address(ip))[0]\n",
    "print(get_domain(\"8.8.8.8\"))\n",
    "print(get_domain(\"8.8.4.4\"))"
   ]
  },
  {
   "cell_type": "markdown",
   "id": "numerous-juvenile",
   "metadata": {},
   "source": [
    "***"
   ]
  },
  {
   "cell_type": "markdown",
   "id": "indian-python",
   "metadata": {},
   "source": [
    "5. Create a function that takes an integer n and returns the factorial of factorials\n",
    "\n",
    "__Ans-__"
   ]
  },
  {
   "cell_type": "code",
   "execution_count": 5,
   "id": "suitable-namibia",
   "metadata": {},
   "outputs": [
    {
     "name": "stdout",
     "output_type": "stream",
     "text": [
      "34560\n",
      "24883200\n"
     ]
    }
   ],
   "source": [
    "from functools import reduce\n",
    "def fact_of_fact(num):\n",
    "    fact = 1\n",
    "    lis = list()\n",
    "    \n",
    "    for i in range(1, num + 1):\n",
    "        fact = fact * i\n",
    "        lis.append(fact)\n",
    "    \n",
    "    return reduce(lambda x, y: x * y, lis)\n",
    "    \n",
    "print(fact_of_fact(5))\n",
    "print(fact_of_fact(6))\n"
   ]
  },
  {
   "cell_type": "markdown",
   "id": "biological-hands",
   "metadata": {},
   "source": [
    "***"
   ]
  }
 ],
 "metadata": {
  "kernelspec": {
   "display_name": "Python 3",
   "language": "python",
   "name": "python3"
  },
  "language_info": {
   "codemirror_mode": {
    "name": "ipython",
    "version": 3
   },
   "file_extension": ".py",
   "mimetype": "text/x-python",
   "name": "python",
   "nbconvert_exporter": "python",
   "pygments_lexer": "ipython3",
   "version": "3.8.7"
  }
 },
 "nbformat": 4,
 "nbformat_minor": 5
}

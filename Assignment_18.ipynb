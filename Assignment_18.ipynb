{
 "cells": [
  {
   "cell_type": "markdown",
   "id": "judicial-profile",
   "metadata": {},
   "source": [
    "1. A robot has been given a list of movement instructions. Each instruction is either left, right, up or down, followed by a distance to move. The robot starts at [0, 0]. You want to calculate where the robot will end up and return its final position as a list.\n",
    "\n",
    "    To illustrate, if the robot is given the following instructions:\n",
    "\n",
    "    [\"right 10\", \"up 50\", \"left 30\", \"down 10\"]\n",
    "\n",
    "    It will end up 20 left and 40 up from where it started, so we return [-20, 40].\n",
    "    \n",
    "__Ans:-__\n"
   ]
  },
  {
   "cell_type": "code",
   "execution_count": 1,
   "id": "charming-accent",
   "metadata": {},
   "outputs": [
    {
     "name": "stdout",
     "output_type": "stream",
     "text": [
      "[-20, 40]\n",
      "[0, 0]\n",
      "[200, 10500]\n"
     ]
    }
   ],
   "source": [
    "def track_robot(lis):\n",
    "    returned_list = [0, 0]\n",
    "    for elem in lis:\n",
    "        direction, distance = elem.split(' ')\n",
    "        if direction == 'right' or direction == 'left':\n",
    "            if direction == 'right':\n",
    "                returned_list[0] += int(distance)\n",
    "            else:\n",
    "                returned_list[0] -= int(distance)\n",
    "        else:\n",
    "            if direction == 'up':\n",
    "                returned_list[1] += int(distance)\n",
    "            else:\n",
    "                returned_list[1] -= int(distance)\n",
    "    return returned_list\n",
    "print(track_robot([\"right 10\", \"up 50\", \"left 30\", \"down 10\"]))\n",
    "print(track_robot([]))\n",
    "print(track_robot([\"right 100\", \"right 100\", \"up 500\", \"up 10000\"]))"
   ]
  },
  {
   "cell_type": "markdown",
   "id": "liked-trade",
   "metadata": {},
   "source": [
    "***"
   ]
  },
  {
   "cell_type": "markdown",
   "id": "proved-folks",
   "metadata": {},
   "source": [
    "2. Write a function that will return the longest word in a sentence. In cases where more than one word is found, return the first one.\n",
    "\n",
    "__Ans:-__"
   ]
  },
  {
   "cell_type": "code",
   "execution_count": 2,
   "id": "diagnostic-evidence",
   "metadata": {},
   "outputs": [
    {
     "name": "stdout",
     "output_type": "stream",
     "text": [
      "forever\n",
      "Forgetfulness\n",
      "Strengths\n"
     ]
    }
   ],
   "source": [
    "import re\n",
    "def find_longest(string):\n",
    "    return max(re.findall(r'[a-z]+', string, re.IGNORECASE), key = len)\n",
    "\n",
    "print(find_longest(\"A thing of beauty is a joy forever.\"))\n",
    "print(find_longest(\"Forgetfulness is by all means powerless!\"))\n",
    "print(find_longest(\"\\\"Strengths\\\" is the longest and most commonly used word that contains only a single vowel.\"))"
   ]
  },
  {
   "cell_type": "markdown",
   "id": "advance-ensemble",
   "metadata": {},
   "source": [
    "***"
   ]
  },
  {
   "cell_type": "markdown",
   "id": "attended-bracelet",
   "metadata": {},
   "source": [
    "3. Create a function to check if a candidate is qualified in an imaginary coding interview of an imaginary tech startup.\n",
    "\n",
    "__Ans:-__"
   ]
  },
  {
   "cell_type": "code",
   "execution_count": 3,
   "id": "young-things",
   "metadata": {},
   "outputs": [
    {
     "name": "stdout",
     "output_type": "stream",
     "text": [
      "qualified\n",
      "qualified\n",
      "disqualified\n",
      "disqualified\n",
      "disqualified\n"
     ]
    }
   ],
   "source": [
    "def interview(lis, time):\n",
    "    if time > 120 or len(lis) < 8:\n",
    "        return 'disqualified'\n",
    "    \n",
    "    question_time = [5,10,15,20]\n",
    "    index = 0\n",
    "    for i in range(len(lis)):\n",
    "        if lis[i] > question_time[index]:\n",
    "            return 'disqualified'\n",
    "        if i % 2:\n",
    "            index += 1\n",
    "    return 'qualified'\n",
    "\n",
    "print(interview([5, 5, 10, 10, 15, 15, 20, 20], 120))\n",
    "print(interview([2, 3, 8, 6, 5, 12, 10, 18], 64))\n",
    "print(interview([5, 5, 10, 10, 25, 15, 20, 20], 120))\n",
    "print(interview([5, 5, 10, 10, 15, 15, 20], 120))\n",
    "print(interview([5, 5, 10, 10, 15, 15, 20, 20], 130))"
   ]
  },
  {
   "cell_type": "markdown",
   "id": "behind-lewis",
   "metadata": {},
   "source": [
    "***"
   ]
  },
  {
   "cell_type": "markdown",
   "id": "latter-constant",
   "metadata": {},
   "source": [
    "4. Write a function that divides a list into chunks of size n, where n is the length of each chunk.\n",
    "\n",
    "__Ans:-__"
   ]
  },
  {
   "cell_type": "code",
   "execution_count": 4,
   "id": "metallic-consultation",
   "metadata": {},
   "outputs": [
    {
     "name": "stdout",
     "output_type": "stream",
     "text": [
      "[[2, 3], [4, 5]]\n",
      "[[2, 3], [4, 5], [6]]\n",
      "[[2, 3, 4], [5, 6, 7]]\n",
      "[[2], [3], [4], [5], [6], [7]]\n",
      "[[2, 3, 4, 5, 6, 7]]\n"
     ]
    }
   ],
   "source": [
    "def chunkify(lis, n):\n",
    "    if n > len(lis):\n",
    "        return [lis]\n",
    "    \n",
    "    returned_list = [[]]\n",
    "    counter = 0\n",
    "    list_index = 0\n",
    "    \n",
    "    for index, i in enumerate(lis):\n",
    "        returned_list[list_index].append(i)\n",
    "        \n",
    "        if counter == n - 1 and not index == (len(lis) - 1):\n",
    "            returned_list.append([])\n",
    "            counter = -1\n",
    "            list_index += 1\n",
    "        counter += 1\n",
    "\n",
    "    return returned_list\n",
    "\n",
    "print(chunkify([2, 3, 4, 5], 2))\n",
    "print(chunkify([2, 3, 4, 5, 6], 2))\n",
    "print(chunkify([2, 3, 4, 5, 6, 7], 3))\n",
    "print(chunkify([2, 3, 4, 5, 6, 7], 1))\n",
    "print(chunkify([2, 3, 4, 5, 6, 7], 7))"
   ]
  },
  {
   "cell_type": "markdown",
   "id": "juvenile-humor",
   "metadata": {},
   "source": [
    "***"
   ]
  },
  {
   "cell_type": "markdown",
   "id": "shared-lincoln",
   "metadata": {},
   "source": [
    "5. You are given a list of strings consisting of grocery items, with prices in parentheses. Return a list of prices in float format.\n",
    "\n",
    "__Ans:-__"
   ]
  },
  {
   "cell_type": "code",
   "execution_count": 5,
   "id": "residential-letter",
   "metadata": {},
   "outputs": [
    {
     "name": "stdout",
     "output_type": "stream",
     "text": [
      "[4.99]\n",
      "[1.99, 5.99, 0.75]\n",
      "[5.99, 0.2, 8.5, 1.99]\n"
     ]
    }
   ],
   "source": [
    "def get_prices(lis):\n",
    "    return [float(lis[i].split('(')[1].split(')')[0][1:]) for i in range(len(lis))]\n",
    "\n",
    "print(get_prices([\"salad ($4.99)\"]))\n",
    "print(get_prices([\n",
    "  \"artichokes ($1.99)\",\n",
    "  \"rotiserrie chicken ($5.99)\",\n",
    "  \"gum ($0.75)\"\n",
    "])\n",
    ")\n",
    "print(get_prices([\n",
    "  \"ice cream ($5.99)\",\n",
    "  \"banana ($0.20)\",\n",
    "  \"sandwich ($8.50)\",\n",
    "  \"soup ($1.99)\"\n",
    "])\n",
    ")"
   ]
  },
  {
   "cell_type": "code",
   "execution_count": null,
   "id": "coated-protocol",
   "metadata": {},
   "outputs": [],
   "source": []
  }
 ],
 "metadata": {
  "kernelspec": {
   "display_name": "Python 3",
   "language": "python",
   "name": "python3"
  },
  "language_info": {
   "codemirror_mode": {
    "name": "ipython",
    "version": 3
   },
   "file_extension": ".py",
   "mimetype": "text/x-python",
   "name": "python",
   "nbconvert_exporter": "python",
   "pygments_lexer": "ipython3",
   "version": "3.8.7"
  }
 },
 "nbformat": 4,
 "nbformat_minor": 5
}

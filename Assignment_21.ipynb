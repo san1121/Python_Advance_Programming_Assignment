{
 "cells": [
  {
   "cell_type": "markdown",
   "id": "consolidated-boutique",
   "metadata": {},
   "source": [
    "1. Given a sentence, return the number of words which have the same first and last letter.\n",
    "\n",
    "__Ans:-__\n"
   ]
  },
  {
   "cell_type": "code",
   "execution_count": 1,
   "id": "norman-credit",
   "metadata": {},
   "outputs": [
    {
     "name": "stdout",
     "output_type": "stream",
     "text": [
      "1\n",
      "0\n",
      "1\n"
     ]
    }
   ],
   "source": [
    "import re\n",
    "\n",
    "def count_same_ends(string):\n",
    "    pattern = re.compile('[a-z]+', re.IGNORECASE)\n",
    "    lis_of_words = re.findall(pattern, string)\n",
    "    same = 0\n",
    "    for word in lis_of_words:\n",
    "        same = same + 1 if len(word) > 1 and word[0].lower() == word[len(word) - 1].lower()\\\n",
    "        else same + 0\n",
    "    return same\n",
    "print(count_same_ends(\"Pop! goes the balloon\"))\n",
    "print(count_same_ends(\"And the crowd goes wild!\"))\n",
    "print(count_same_ends(\"No I am not in a gang.\"))"
   ]
  },
  {
   "cell_type": "markdown",
   "id": "chinese-squad",
   "metadata": {},
   "source": [
    "***"
   ]
  },
  {
   "cell_type": "markdown",
   "id": "bacterial-richmond",
   "metadata": {},
   "source": [
    "2. The Atbash cipher is an encryption method in which each letter of a word is replaced with its \"mirror\" letter in the alphabet: A <=> Z; B <=> Y; C <=> X; etc.\n",
    "\n",
    "    Create a function that takes a string and applies the Atbash cipher to it.\n",
    "    \n",
    "__Ans:-__"
   ]
  },
  {
   "cell_type": "code",
   "execution_count": 2,
   "id": "blocked-colors",
   "metadata": {},
   "outputs": [
    {
     "name": "stdout",
     "output_type": "stream",
     "text": [
      "zkkov\n",
      "Svool dliow!\n",
      "Xsirhgnzh rh gsv 25gs lu Wvxvnyvi\n"
     ]
    }
   ],
   "source": [
    "def atbash(string):\n",
    "    returned_list = list()\n",
    "    for i in string:\n",
    "        if 65 <= ord(i) <= 90:\n",
    "            returned_list.append(chr(ord(i)  + 25 - 2 * (ord(i) - ord('A'))))\n",
    "        elif 97 <= ord(i) <= 122:\n",
    "            returned_list.append(chr(ord(i)  + 25 - 2 * (ord(i) - ord('a'))))\n",
    "        else:\n",
    "            returned_list.append(i)\n",
    "    return ''.join(returned_list)\n",
    "\n",
    "print(atbash('apple'))\n",
    "print(atbash('Hello world!'))\n",
    "print(atbash(\"Christmas is the 25th of December\"))"
   ]
  },
  {
   "cell_type": "markdown",
   "id": "formed-jason",
   "metadata": {},
   "source": [
    "***"
   ]
  },
  {
   "cell_type": "markdown",
   "id": "shared-appreciation",
   "metadata": {},
   "source": [
    "3. Create a class Employee that will take a full name as argument, as well as a set of none, one or more keywords. Each instance should have a name and a lastname attributes plus one more attribute for each of the keywords, if any.\n",
    "\n",
    "__Ans:-__"
   ]
  },
  {
   "cell_type": "code",
   "execution_count": 3,
   "id": "generic-bread",
   "metadata": {},
   "outputs": [
    {
     "name": "stdout",
     "output_type": "stream",
     "text": [
      "John\n",
      "Major\n",
      "178\n",
      "Italian\n"
     ]
    }
   ],
   "source": [
    "class Employee:\n",
    "    def __init__(self, full_name, **kwargs):\n",
    "        self.name = full_name.split(' ')[0]\n",
    "        self.lastname = full_name.split(' ')[1]\n",
    "        self.__dict__.update(kwargs)\n",
    "        \n",
    "        \n",
    "john = Employee(\"John Doe\")\n",
    "mary = Employee(\"Mary Major\", salary=120000)\n",
    "richard = Employee(\"Richard Roe\", salary=110000, height=178)\n",
    "giancarlo = Employee(\"Giancarlo Rossi\", salary=115000, height=182, nationality=\"Italian\")\n",
    "\n",
    "print(john.name)\n",
    "print(mary.lastname)\n",
    "print(richard.height)\n",
    "print(giancarlo.nationality)"
   ]
  },
  {
   "cell_type": "markdown",
   "id": "massive-injection",
   "metadata": {},
   "source": [
    "***"
   ]
  },
  {
   "cell_type": "markdown",
   "id": "foreign-congress",
   "metadata": {},
   "source": [
    "4. Create a function that determines whether each seat can \"see\" the front-stage. A number can \"see\" the front-stage if it is strictly greater than the number before it.\n",
    "\n",
    "__Ans:-__"
   ]
  },
  {
   "cell_type": "code",
   "execution_count": 4,
   "id": "chicken-cigarette",
   "metadata": {},
   "outputs": [
    {
     "name": "stdout",
     "output_type": "stream",
     "text": [
      "True\n",
      "False\n",
      "False\n"
     ]
    }
   ],
   "source": [
    "def can_see_stage(stage):\n",
    "    rows = len(stage)\n",
    "    cols = len(stage[0])\n",
    "    for col in range(cols):\n",
    "        for row in range(rows - 1):\n",
    "            if stage[row][col] >= stage[row + 1][col]:\n",
    "                return False   \n",
    "    return True\n",
    "            \n",
    "print(can_see_stage([\n",
    "  [1, 2, 3],\n",
    "  [4, 5, 6],\n",
    "  [7, 8, 9]\n",
    "]) \n",
    ")\n",
    "print(can_see_stage([\n",
    "  [2, 0, 0], \n",
    "  [1, 1, 1], \n",
    "  [2, 2, 2]\n",
    "])\n",
    ")\n",
    "print(can_see_stage([\n",
    "  [1, 0, 0],\n",
    "  [1, 1, 1],\n",
    "  [2, 2, 2]\n",
    "])\n",
    ")"
   ]
  },
  {
   "cell_type": "markdown",
   "id": "hazardous-thing",
   "metadata": {},
   "source": [
    "***"
   ]
  },
  {
   "cell_type": "markdown",
   "id": "nonprofit-uniform",
   "metadata": {},
   "source": [
    "5. Create a Pizza class with the attributes order_number and ingredients (which is given as a list). Only the ingredients will be given as input.\n",
    "\n",
    "    You should also make it so that its possible to choose a ready made pizza flavour rather than typing out the ingredients manually! As well as creating this Pizza class, hard-code the following pizza flavours.\n",
    "\n",
    "__Ans:-__"
   ]
  },
  {
   "cell_type": "code",
   "execution_count": 10,
   "id": "informed-parent",
   "metadata": {
    "scrolled": true
   },
   "outputs": [
    {
     "name": "stdout",
     "output_type": "stream",
     "text": [
      "['bacon', 'parmesan', 'ham']\n",
      "1\n",
      "['spinach', 'olives', 'mushroom']\n",
      "2\n",
      "['ham', 'pineapple']\n",
      "3\n",
      "['beef', 'meatball', 'bacon']\n",
      "4\n"
     ]
    }
   ],
   "source": [
    "class Pizza:\n",
    "    order = 0\n",
    "    ingredients = {\n",
    "        'hawaiian' : ['ham','pineapple'],\n",
    "        'meat_festival' : ['beef','meatball','bacon'],\n",
    "        'garden_feast' : ['spinach', 'olives', 'mushroom']\n",
    "    }\n",
    "    \n",
    "    def __init__(self, ingredient):\n",
    "        self.ingredients = ingredient\n",
    "        Pizza.order = Pizza.order + 1\n",
    "        self.order_number = Pizza.order\n",
    "    \n",
    "    @classmethod\n",
    "    def garden_feast(cls):\n",
    "        return cls(cls.ingredients['garden_feast'])\n",
    "    \n",
    "    @classmethod\n",
    "    def hawaiian(cls):\n",
    "        return cls(cls.ingredients['hawaiian'])\n",
    "    \n",
    "    @classmethod\n",
    "    def meat_festival(cls):\n",
    "        return cls(cls.ingredients['meat_festival'])\n",
    "        \n",
    "p1 = Pizza([\"bacon\", \"parmesan\", \"ham\"])\n",
    "p2 = Pizza.garden_feast()\n",
    "p3 = Pizza.hawaiian()\n",
    "p4 = Pizza.meat_festival()\n",
    "\n",
    "print(p1.ingredients)\n",
    "print(p1.order_number)\n",
    "\n",
    "print(p2.ingredients)\n",
    "print(p2.order_number)\n",
    "\n",
    "print(p3.ingredients)\n",
    "print(p3.order_number)\n",
    "\n",
    "print(p4.ingredients)\n",
    "print(p4.order_number)"
   ]
  },
  {
   "cell_type": "code",
   "execution_count": null,
   "id": "aboriginal-inflation",
   "metadata": {},
   "outputs": [],
   "source": []
  }
 ],
 "metadata": {
  "kernelspec": {
   "display_name": "Python 3",
   "language": "python",
   "name": "python3"
  },
  "language_info": {
   "codemirror_mode": {
    "name": "ipython",
    "version": 3
   },
   "file_extension": ".py",
   "mimetype": "text/x-python",
   "name": "python",
   "nbconvert_exporter": "python",
   "pygments_lexer": "ipython3",
   "version": "3.8.7"
  }
 },
 "nbformat": 4,
 "nbformat_minor": 5
}

{
 "cells": [
  {
   "cell_type": "markdown",
   "id": "accessible-fellowship",
   "metadata": {},
   "source": [
    "1. Rondo Form is a type of musical structure, in which there is a recurring theme/refrain, notated as A. Here are the rules for valid rondo forms:\n",
    "\n",
    "   - Rondo forms always start and end with an A section.\n",
    "   - In between the A sections, there should be contrasting sections notated as B, then C, then D, etc... No letter should be skipped.\n",
    "   - There shouldn't be any repeats in the sequence (such as ABBACCA).\n",
    "\n",
    "    Create a function which validates whether a given string is a valid Rondo Form.\n",
    "\n",
    "__Ans:-__"
   ]
  },
  {
   "cell_type": "code",
   "execution_count": 1,
   "id": "aerial-matrix",
   "metadata": {},
   "outputs": [
    {
     "name": "stdout",
     "output_type": "stream",
     "text": [
      "True\n",
      "True\n",
      "False\n",
      "False\n",
      "False\n"
     ]
    }
   ],
   "source": [
    "def valid_rondo(string):\n",
    "    if len(string) <= 1 or string[0] != 'A' or string[len(string) - 1] != 'A':\n",
    "        return False\n",
    "    \n",
    "    for i in range(1, len(string) - 1):\n",
    "        if string[i] == string[i - 1]:\n",
    "            return False\n",
    "    return True   \n",
    "    \n",
    "print(valid_rondo(\"ABACADAEAFAGAHAIAJA\"))\n",
    "print(valid_rondo(\"ABA\"))\n",
    "print(valid_rondo(\"ABBACCA\"))\n",
    "print(valid_rondo(\"ACAC\"))\n",
    "print(valid_rondo(\"A\"))"
   ]
  },
  {
   "cell_type": "markdown",
   "id": "invalid-brain",
   "metadata": {},
   "source": [
    "***"
   ]
  },
  {
   "cell_type": "markdown",
   "id": "technological-premises",
   "metadata": {},
   "source": [
    "\n",
    "2. Create a function that returns the whole of the first sentence which contains a specific word. Include the full stop at the end of the sentence.\n",
    "\n",
    "__Ans:-__"
   ]
  },
  {
   "cell_type": "code",
   "execution_count": 2,
   "id": "seven-grant",
   "metadata": {},
   "outputs": [
    {
     "name": "stdout",
     "output_type": "stream",
     "text": [
      "I have a cat.\n",
      "I have a mat.\n",
      "Things are going swell.\n",
      "\n"
     ]
    }
   ],
   "source": [
    "def sentence_searcher(txt, word):\n",
    "    new_txt = txt.lower()\n",
    "    for index, sentence in enumerate(new_txt.split('.')):\n",
    "        if word.lower() in sentence:\n",
    "            return (txt.split('.')[index] + '.').strip()\n",
    "    return ''\n",
    "txt = \"I have a cat. I have a mat. Things are going swell.\"\n",
    "print(sentence_searcher(txt, \"have\"))\n",
    "print(sentence_searcher(txt, \"MAT\"))\n",
    "print(sentence_searcher(txt, \"things\"))\n",
    "print(sentence_searcher(txt, \"flat\"))"
   ]
  },
  {
   "cell_type": "markdown",
   "id": "royal-conditioning",
   "metadata": {},
   "source": [
    "***"
   ]
  },
  {
   "cell_type": "markdown",
   "id": "differential-dialogue",
   "metadata": {},
   "source": [
    "3. Given a number, find the \"round \"of each digit of the number. An integer is called \"round\" if all its digits except the leftmost (most significant) are equal to zero.\n",
    "\n",
    "    - Round numbers: 4000, 1, 9, 800, 90\n",
    "    - Not round numbers: 110, 707, 222, 1001\n",
    "\n",
    "    Create a function that takes a number and returns the \"round\" of each digit (except if the digit is zero) as a string. Check out the following examples for more clarification.\n",
    "\n",
    "__Ans:-__"
   ]
  },
  {
   "cell_type": "code",
   "execution_count": 3,
   "id": "static-approval",
   "metadata": {},
   "outputs": [
    {
     "name": "stdout",
     "output_type": "stream",
     "text": [
      "1 100\n",
      "4 30 200 1000\n",
      "10 200 4000 50000\n"
     ]
    }
   ],
   "source": [
    "def sum_round(num):\n",
    "    string_num = str(num)\n",
    "    returned_list = list()\n",
    "    for index, digit in enumerate(string_num[::-1]):\n",
    "        if digit != '0':\n",
    "            returned_list.append(digit + '0' * (index))\n",
    "    return ' '.join(returned_list)\n",
    "print(sum_round(101))\n",
    "print(sum_round(1234))\n",
    "print(sum_round(54210))"
   ]
  },
  {
   "cell_type": "markdown",
   "id": "valued-phoenix",
   "metadata": {},
   "source": [
    "***"
   ]
  },
  {
   "cell_type": "markdown",
   "id": "sorted-rider",
   "metadata": {},
   "source": [
    "4. Your task, is to create N x N multiplication table, of size n provided in parameter.\n",
    "\n",
    "__Ans:-__"
   ]
  },
  {
   "cell_type": "code",
   "execution_count": 4,
   "id": "sonic-accuracy",
   "metadata": {},
   "outputs": [
    {
     "name": "stdout",
     "output_type": "stream",
     "text": [
      "[[1]]\n",
      "[[1, 2, 3, 4, 5], [2, 4, 6, 8, 10], [3, 6, 9, 12, 15], [4, 8, 12, 16, 20], [5, 10, 15, 20, 25]]\n"
     ]
    }
   ],
   "source": [
    "def multiplication_table(num):\n",
    "    returned_list = list()\n",
    "    \n",
    "    for i in range(1, num + 1):\n",
    "        returned_list.append([])\n",
    "        for j in range(1, num + 1):\n",
    "            returned_list[i - 1].append(i * j)\n",
    "    return returned_list\n",
    "\n",
    "print(multiplication_table(1))\n",
    "print(multiplication_table(5))"
   ]
  },
  {
   "cell_type": "markdown",
   "id": "first-cigarette",
   "metadata": {},
   "source": [
    "***"
   ]
  },
  {
   "cell_type": "markdown",
   "id": "recorded-craft",
   "metadata": {},
   "source": [
    "5. Create a function that returns True if two lines rhyme and False otherwise. For the purposes of this exercise, two lines rhyme if the last word from each sentence contains the same vowels.\n",
    "\n",
    "__Ans:-__"
   ]
  },
  {
   "cell_type": "code",
   "execution_count": 5,
   "id": "proprietary-aside",
   "metadata": {},
   "outputs": [
    {
     "name": "stdout",
     "output_type": "stream",
     "text": [
      "True\n",
      "True\n",
      "False\n",
      "False\n"
     ]
    }
   ],
   "source": [
    "def does_rhyme(string1, string2):\n",
    "    last_string1 = string1.split(' ')[-1].lower()\n",
    "    last_string2 = string2.split(' ')[-1].lower()\n",
    "    \n",
    "    vowels = {\n",
    "        'a' : 0,\n",
    "        'e' : 0,\n",
    "        'i' : 0,\n",
    "        'o' : 0,\n",
    "        'u' : 0\n",
    "    }\n",
    "    \n",
    "    for i in last_string1:\n",
    "        if i in vowels:\n",
    "            vowels[i] += 1\n",
    "    \n",
    "    for j in last_string2:\n",
    "        if j in vowels:\n",
    "            vowels[j] -= 1\n",
    "    \n",
    "    return not any(vowels.values())\n",
    "\n",
    "print(does_rhyme(\"Sam I am!\", \"Green eggs and ham.\"))\n",
    "print(does_rhyme(\"Sam I am!\", \"Green eggs and HAM.\"))\n",
    "print(does_rhyme(\"You are off to the races\", \"a splendid day.\"))\n",
    "print(does_rhyme(\"and frequently do?\", \"you gotta move.\"))"
   ]
  },
  {
   "cell_type": "code",
   "execution_count": null,
   "id": "opened-stuart",
   "metadata": {},
   "outputs": [],
   "source": []
  }
 ],
 "metadata": {
  "kernelspec": {
   "display_name": "Python 3",
   "language": "python",
   "name": "python3"
  },
  "language_info": {
   "codemirror_mode": {
    "name": "ipython",
    "version": 3
   },
   "file_extension": ".py",
   "mimetype": "text/x-python",
   "name": "python",
   "nbconvert_exporter": "python",
   "pygments_lexer": "ipython3",
   "version": "3.8.7"
  }
 },
 "nbformat": 4,
 "nbformat_minor": 5
}

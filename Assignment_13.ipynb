{
 "cells": [
  {
   "cell_type": "markdown",
   "id": "allied-generation",
   "metadata": {},
   "source": [
    "1. Create a function that takes a list and string. The function should remove the letters in the string from the list, and return the list.\n",
    "\n",
    "__Ans:-__"
   ]
  },
  {
   "cell_type": "code",
   "execution_count": 1,
   "id": "distinguished-tiger",
   "metadata": {},
   "outputs": [
    {
     "name": "stdout",
     "output_type": "stream",
     "text": [
      "['w']\n",
      "['b', 'g', 'w']\n",
      "[]\n"
     ]
    }
   ],
   "source": [
    "def remove_letters(lis, string):\n",
    "    new_list = list()\n",
    "    for letter in lis:\n",
    "        if letter in string:\n",
    "            string = string.replace(letter,'',1)\n",
    "        else:\n",
    "            new_list.append(letter)\n",
    "    return new_list\n",
    "\n",
    "print(remove_letters([\"s\", \"t\", \"r\", \"i\", \"n\", \"g\", \"w\"], \"string\"))\n",
    "print(remove_letters([\"b\", \"b\", \"l\", \"l\", \"g\", \"n\", \"o\", \"a\", \"w\"], \"balloon\"))\n",
    "print(remove_letters([\"d\", \"b\", \"t\", \"e\", \"a\", \"i\"], \"edabit\"))\n"
   ]
  },
  {
   "cell_type": "markdown",
   "id": "interim-institution",
   "metadata": {},
   "source": [
    "***"
   ]
  },
  {
   "cell_type": "markdown",
   "id": "superb-playback",
   "metadata": {},
   "source": [
    "2. Create a function that takes a number (step) as an argument and returns the amount of blocks in that step.\n",
    "\n",
    "__Ans:-__"
   ]
  },
  {
   "cell_type": "code",
   "execution_count": 2,
   "id": "confidential-sentence",
   "metadata": {},
   "outputs": [
    {
     "name": "stdout",
     "output_type": "stream",
     "text": [
      "5\n",
      "39\n",
      "12\n"
     ]
    }
   ],
   "source": [
    "def blocks(num):   \n",
    "    return ((7 + num - 2) * (7 + num - 2 + 1))//2 - ((6 * 7)//2) + 5\n",
    "\n",
    "print(blocks(1))\n",
    "print(blocks(5))\n",
    "print(blocks(2))\n"
   ]
  },
  {
   "cell_type": "markdown",
   "id": "weighted-audit",
   "metadata": {},
   "source": [
    "***"
   ]
  },
  {
   "cell_type": "markdown",
   "id": "forced-recorder",
   "metadata": {},
   "source": [
    "3. Create a function that subtracts one positive integer from another, without using any arithmetic operators such as -, %, /, +, etc.\n",
    "\n",
    "__Ans:-__"
   ]
  },
  {
   "cell_type": "code",
   "execution_count": 3,
   "id": "lightweight-faculty",
   "metadata": {
    "scrolled": true
   },
   "outputs": [
    {
     "name": "stdout",
     "output_type": "stream",
     "text": [
      "19\n"
     ]
    }
   ],
   "source": [
    "def my_sub(num1, num2):\n",
    "    if num2 == 0:\n",
    "        return num1\n",
    "    borrow = (~num1) & num2\n",
    "    num1 = num1 ^ num2   \n",
    "    num2 = borrow << 1\n",
    "    return my_sub(num1,num2)\n",
    "print(my_sub(30, 11))"
   ]
  },
  {
   "cell_type": "markdown",
   "id": "aging-backup",
   "metadata": {},
   "source": [
    "***"
   ]
  },
  {
   "cell_type": "markdown",
   "id": "further-recipe",
   "metadata": {},
   "source": [
    "\n",
    "4. Create a function that takes a string containing money in dollars and pounds sterling (seperated by comma) and returns the sum of dollar bills only, as an integer.\n",
    "\n",
    "__Ans:-__"
   ]
  },
  {
   "cell_type": "code",
   "execution_count": 4,
   "id": "brave-claim",
   "metadata": {},
   "outputs": [
    {
     "name": "stdout",
     "output_type": "stream",
     "text": [
      "2200\n",
      "170\n",
      "70\n"
     ]
    }
   ],
   "source": [
    "def resolve_k(amount):\n",
    "    if amount[-1] == 'k':\n",
    "        return int(amount[1:-1]) * 1000\n",
    "    else:\n",
    "        return int(amount[1:])\n",
    "def add_bill(string):\n",
    "    total_bill = 0\n",
    "    for amount in string.split(','):\n",
    "        if amount[0] == 'd':\n",
    "            total_bill += resolve_k(amount)\n",
    "    return total_bill\n",
    "print(add_bill(\"p30,d2k,p60,d200,p360\"))\n",
    "print(add_bill(\"p30,d20,p60,d150,p360\"))\n",
    "print(add_bill(\"d20,p40,p60,d50\"))"
   ]
  },
  {
   "cell_type": "markdown",
   "id": "related-heaven",
   "metadata": {},
   "source": [
    "***"
   ]
  },
  {
   "cell_type": "markdown",
   "id": "chicken-remark",
   "metadata": {},
   "source": [
    "5. Create a function that flips a horizontal list into a vertical list, and a vertical list into a horizontal list.\n",
    "\n",
    "    In other words, take an 1 x n list (1 row + n columns) and flip it into a n x 1 list (n rows and 1 column), and vice versa.\n",
    "\n",
    "__Ans:-__"
   ]
  },
  {
   "cell_type": "code",
   "execution_count": 5,
   "id": "cellular-fluid",
   "metadata": {},
   "outputs": [
    {
     "name": "stdout",
     "output_type": "stream",
     "text": [
      "[[1], [2], [3], [4]]\n",
      "[5, 6, 9]\n",
      "[]\n"
     ]
    }
   ],
   "source": [
    "def flip_list(lis):\n",
    "    if not len(lis):\n",
    "        return []\n",
    "    is_vertical = type(lis[0]) == list\n",
    "    new_list = []\n",
    "    if not is_vertical:\n",
    "        for i in lis:\n",
    "            new_list.append([i])\n",
    "        return new_list\n",
    "    else:\n",
    "        for i in lis:\n",
    "            new_list.append(i[0])\n",
    "        return new_list\n",
    "        \n",
    "print(flip_list([1, 2, 3, 4]))\n",
    "print(flip_list([[5], [6], [9]]))\n",
    "print(flip_list([]))"
   ]
  },
  {
   "cell_type": "code",
   "execution_count": null,
   "id": "bored-projection",
   "metadata": {},
   "outputs": [],
   "source": []
  }
 ],
 "metadata": {
  "kernelspec": {
   "display_name": "Python 3",
   "language": "python",
   "name": "python3"
  },
  "language_info": {
   "codemirror_mode": {
    "name": "ipython",
    "version": 3
   },
   "file_extension": ".py",
   "mimetype": "text/x-python",
   "name": "python",
   "nbconvert_exporter": "python",
   "pygments_lexer": "ipython3",
   "version": "3.8.7"
  }
 },
 "nbformat": 4,
 "nbformat_minor": 5
}

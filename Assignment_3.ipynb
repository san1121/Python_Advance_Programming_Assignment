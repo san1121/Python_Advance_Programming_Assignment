{
 "cells": [
  {
   "cell_type": "markdown",
   "id": "correct-niger",
   "metadata": {},
   "source": [
    "1. Create a function to perform basic arithmetic operations that includes addition, subtraction, multiplication and division on a string number (e.g. \"12 + 24\" or \"23 - 21\" or \"12 // 12\" or \"12 * 21\").\n",
    "\n",
    "__Ans:-__"
   ]
  },
  {
   "cell_type": "code",
   "execution_count": 1,
   "id": "devoted-housing",
   "metadata": {},
   "outputs": [
    {
     "name": "stdout",
     "output_type": "stream",
     "text": [
      "148064\n",
      "1354\n",
      "-9998\n",
      "-1\n"
     ]
    }
   ],
   "source": [
    "def arithmetic_operation(operation):\n",
    "    num1, operator, num2 = operation.split(' ')\n",
    "    if operator == '+':\n",
    "        return int(num1) + int(num2)\n",
    "    elif operator == '-':\n",
    "        return int(num1) - int(num2)\n",
    "    elif operator == '*':\n",
    "        return int(num1) * int(num2)\n",
    "    elif operator == '//':\n",
    "        if num2 == '0':\n",
    "            return -1\n",
    "        else:\n",
    "            return int(num1) // int(num2)\n",
    "        \n",
    "\n",
    "print(arithmetic_operation('112 * 1322'))\n",
    "print(arithmetic_operation('122 + 1232'))\n",
    "print(arithmetic_operation('1234 - 11232'))\n",
    "print(arithmetic_operation('12 // 0'))"
   ]
  },
  {
   "cell_type": "markdown",
   "id": "developing-concentrate",
   "metadata": {},
   "source": [
    "***"
   ]
  },
  {
   "cell_type": "markdown",
   "id": "portable-tragedy",
   "metadata": {},
   "source": [
    "2. Write a function that takes the coordinates of three points in the form of a 2d array and returns the perimeter of the triangle. The given points are the vertices of a triangle on a two-dimensional plane.\n",
    "\n",
    "__Ans:-__"
   ]
  },
  {
   "cell_type": "code",
   "execution_count": 2,
   "id": "challenging-arrangement",
   "metadata": {},
   "outputs": [
    {
     "name": "stdout",
     "output_type": "stream",
     "text": [
      "47.08\n",
      "3.41\n",
      "68.28\n"
     ]
    }
   ],
   "source": [
    "from math import sqrt\n",
    "def cal_distance(p1, p2):\n",
    "    return sqrt((p2[1] - p1[1])**2 + (p2[0] - p1[0])**2)\n",
    "def perimeter(lis):\n",
    "    point1, point2, point3 = lis\n",
    "    perimeter = 0\n",
    "    perimeter += cal_distance(point1, point2)\n",
    "    perimeter += cal_distance(point1, point3)\n",
    "    perimeter += cal_distance(point3, point2)\n",
    "    return perimeter\n",
    "\n",
    "print('%.2f'%perimeter([[15, 7], [5, 22], [11, 1]]))\n",
    "print('%.2f'%perimeter([ [0, 0], [0, 1], [1, 0] ] ))\n",
    "print('%.2f'%perimeter([ [-10, -10], [10, 10 ], [-10, 10] ]))"
   ]
  },
  {
   "cell_type": "markdown",
   "id": "found-absence",
   "metadata": {},
   "source": [
    "***"
   ]
  },
  {
   "cell_type": "markdown",
   "id": "becoming-parish",
   "metadata": {},
   "source": [
    "3. A city skyline can be represented as a 2-D list with 1s representing buildings.Create a function that takes a skyline (2-D list of 0's and 1's) and returns the height of the tallest skyscraper.\n",
    "\n",
    "__Ans:-__"
   ]
  },
  {
   "cell_type": "code",
   "execution_count": 3,
   "id": "funky-magazine",
   "metadata": {},
   "outputs": [
    {
     "name": "stdout",
     "output_type": "stream",
     "text": [
      "2\n",
      "3\n"
     ]
    }
   ],
   "source": [
    "def tallest_skyscraper(lis):\n",
    "    rows = len(lis)\n",
    "    cols = len(lis[0])\n",
    "    max_height = 0    \n",
    "    for col in range(cols):\n",
    "        height = 0\n",
    "        for row in range(rows):\n",
    "            height += lis[row][col]\n",
    "        max_height = max_height if max_height > height else height\n",
    "    return max_height\n",
    "    \n",
    "\n",
    "print(tallest_skyscraper([\n",
    "  [0, 0, 0, 0],\n",
    "  [0, 0, 0, 0],\n",
    "  [1, 1, 1, 0],\n",
    "  [1, 1, 1, 1]\n",
    "])\n",
    ")\n",
    "\n",
    "print(tallest_skyscraper([\n",
    "  [0, 0, 0, 0],\n",
    "  [0, 1, 0, 0],\n",
    "  [0, 1, 1, 0],\n",
    "  [1, 1, 1, 1]\n",
    "]) \n",
    ")"
   ]
  },
  {
   "cell_type": "markdown",
   "id": "sacred-vienna",
   "metadata": {},
   "source": [
    "***"
   ]
  },
  {
   "cell_type": "markdown",
   "id": "composite-appearance",
   "metadata": {},
   "source": [
    "3. Write a function to read the billable days of an employee and return the bonus he/she has obtained in that quarter.\n",
    "\n",
    "__Ans:-__"
   ]
  },
  {
   "cell_type": "code",
   "execution_count": 4,
   "id": "stopped-contrary",
   "metadata": {},
   "outputs": [
    {
     "name": "stdout",
     "output_type": "stream",
     "text": [
      "5350\n",
      "1625\n",
      "8200\n"
     ]
    }
   ],
   "source": [
    "def bonus(days):\n",
    "    if days <= 32:\n",
    "        return 0\n",
    "    \n",
    "    bonus_pay = {\n",
    "        '33' : 325,\n",
    "        '41' : 550,\n",
    "        '49' : 600\n",
    "    }\n",
    "\n",
    "    temp = days - 32\n",
    "    bonus = 0\n",
    "    for key, value in bonus_pay.items():\n",
    "        if days >= int(key):\n",
    "            value = temp\n",
    "            if value > 8:\n",
    "                value = 8\n",
    "            bonus += bonus_pay[key] * value\n",
    "            temp -= value\n",
    "            \n",
    "    return bonus\n",
    "print(bonus(45))\n",
    "print(bonus(37))\n",
    "print(bonus(50))"
   ]
  },
  {
   "cell_type": "markdown",
   "id": "minimal-basketball",
   "metadata": {},
   "source": [
    "***"
   ]
  },
  {
   "cell_type": "markdown",
   "id": "wooden-russell",
   "metadata": {},
   "source": [
    "5. A number is said to be Disarium if the sum of its digits raised to their respective positions is the number itself.\n",
    "\n",
    "    Create a function that determines whether a number is a Disarium or not.\n",
    "\n",
    "__Ans:-__"
   ]
  },
  {
   "cell_type": "code",
   "execution_count": 5,
   "id": "promising-zimbabwe",
   "metadata": {},
   "outputs": [
    {
     "name": "stdout",
     "output_type": "stream",
     "text": [
      "False\n",
      "True\n",
      "True\n"
     ]
    }
   ],
   "source": [
    "def is_disarium(num):\n",
    "    length = len(str(num))\n",
    "    temp = num\n",
    "    addition = 0\n",
    "    while temp > 0:\n",
    "        addition += (temp % 10)**length\n",
    "        length -= 1\n",
    "        temp //=10\n",
    "    return addition == num\n",
    "\n",
    "print(is_disarium(544))\n",
    "print(is_disarium(518))\n",
    "print(is_disarium(135))"
   ]
  },
  {
   "cell_type": "code",
   "execution_count": null,
   "id": "scientific-athletics",
   "metadata": {},
   "outputs": [],
   "source": []
  }
 ],
 "metadata": {
  "kernelspec": {
   "display_name": "Python 3",
   "language": "python",
   "name": "python3"
  },
  "language_info": {
   "codemirror_mode": {
    "name": "ipython",
    "version": 3
   },
   "file_extension": ".py",
   "mimetype": "text/x-python",
   "name": "python",
   "nbconvert_exporter": "python",
   "pygments_lexer": "ipython3",
   "version": "3.8.7"
  }
 },
 "nbformat": 4,
 "nbformat_minor": 5
}

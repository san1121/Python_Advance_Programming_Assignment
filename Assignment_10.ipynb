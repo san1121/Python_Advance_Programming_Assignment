{
 "cells": [
  {
   "cell_type": "markdown",
   "id": "acknowledged-lightning",
   "metadata": {},
   "source": [
    "1. Create a function that takes the width, height and character and returns a picture frame as a 2D list.\n",
    "\n",
    "__Ans:-__"
   ]
  },
  {
   "cell_type": "code",
   "execution_count": 1,
   "id": "handled-grass",
   "metadata": {},
   "outputs": [
    {
     "name": "stdout",
     "output_type": "stream",
     "text": [
      "####\n",
      "#  #\n",
      "#  #\n",
      "#  #\n",
      "####\n",
      "\n",
      "**********\n",
      "*        *\n",
      "**********\n",
      "\n"
     ]
    }
   ],
   "source": [
    "def get_frame(width, height, character):\n",
    "    if width <= 2:\n",
    "        return 'invalid'\n",
    "    \n",
    "    for i in range(height):\n",
    "        for j in range(width):\n",
    "            if i == 0 or i == height - 1 or j == 0 or j == width - 1:\n",
    "                print(character, end = '')\n",
    "            else:\n",
    "                print(end = ' ')\n",
    "        print()\n",
    "    print()\n",
    "get_frame(4, 5, '#')\n",
    "get_frame(10,3, '*')"
   ]
  },
  {
   "cell_type": "markdown",
   "id": "legendary-andrews",
   "metadata": {},
   "source": [
    "***"
   ]
  },
  {
   "cell_type": "markdown",
   "id": "superb-genealogy",
   "metadata": {},
   "source": [
    "2. Write three functions:\n",
    "\n",
    "  1. boolean_and\n",
    "  2. boolean_or\n",
    "  3. boolean_xor\n",
    "  \n",
    "These functions should evaluate a list of True and False values, starting from the leftmost element and evaluating pairwise.\n",
    "\n",
    "__Ans:-__"
   ]
  },
  {
   "cell_type": "code",
   "execution_count": 2,
   "id": "occasional-recruitment",
   "metadata": {},
   "outputs": [
    {
     "name": "stdout",
     "output_type": "stream",
     "text": [
      "False\n",
      "True\n",
      "False\n"
     ]
    }
   ],
   "source": [
    "from functools import reduce\n",
    "def boolean_and(lis):\n",
    "    return reduce(lambda x, y: x and y, lis)\n",
    "\n",
    "def boolean_or(lis):\n",
    "    return reduce(lambda x, y: x or y, lis)\n",
    "\n",
    "def boolean_xor(lis):\n",
    "    return reduce(lambda x, y: x ^ y, lis)\n",
    "\n",
    "print(boolean_and([True, True, False, True]))\n",
    "print(boolean_or([True, True, False, False]))\n",
    "print(boolean_xor([True, True, False, False]))"
   ]
  },
  {
   "cell_type": "markdown",
   "id": "delayed-upset",
   "metadata": {},
   "source": [
    "***"
   ]
  },
  {
   "cell_type": "markdown",
   "id": "cognitive-thing",
   "metadata": {},
   "source": [
    "3. Create a function that creates a box based on dimension n.\n",
    "\n",
    "__Ans:-__"
   ]
  },
  {
   "cell_type": "code",
   "execution_count": 3,
   "id": "forced-consent",
   "metadata": {},
   "outputs": [
    {
     "name": "stdout",
     "output_type": "stream",
     "text": [
      "#####\n",
      "#   #\n",
      "#   #\n",
      "#   #\n",
      "#####\n",
      "\n",
      "##\n",
      "##\n",
      "\n",
      "#\n",
      "\n"
     ]
    }
   ],
   "source": [
    "def make_box(n):\n",
    "    for i in range(n):\n",
    "        for j in range(n):\n",
    "            if i == 0 or i == n - 1 or j == 0 or j == n - 1:\n",
    "                print('#', end = '')\n",
    "            else:\n",
    "                print(end = ' ')\n",
    "        print()\n",
    "    print()\n",
    "\n",
    "make_box(5)\n",
    "make_box(2)\n",
    "make_box(1)"
   ]
  },
  {
   "cell_type": "markdown",
   "id": "charming-carnival",
   "metadata": {},
   "source": [
    "***"
   ]
  },
  {
   "cell_type": "markdown",
   "id": "based-recording",
   "metadata": {},
   "source": [
    "4. Given a common phrase, return False if any individual word in the phrase contains duplicate letters. Return True otherwise.\n",
    "\n",
    "__Ans:-__"
   ]
  },
  {
   "cell_type": "code",
   "execution_count": 4,
   "id": "modular-cleaner",
   "metadata": {},
   "outputs": [
    {
     "name": "stdout",
     "output_type": "stream",
     "text": [
      "True\n",
      "True\n",
      "False\n",
      "False\n"
     ]
    }
   ],
   "source": [
    "def no_duplicate_letters(string):\n",
    "    seen = set()\n",
    "    for i in string:\n",
    "        if i.isalpha():\n",
    "            if i not in seen:\n",
    "                seen.add(i)\n",
    "            else:\n",
    "                return False\n",
    "        else:\n",
    "            seen.clear()\n",
    "    return True\n",
    "\n",
    "print(no_duplicate_letters(\"Fortune favours the bold.\"))\n",
    "print(no_duplicate_letters(\"You can lead a horse to water, but you can't make him drink.\") )\n",
    "print(no_duplicate_letters(\"Look before you leap.\") )\n",
    "print(no_duplicate_letters(\"An apple a day keeps the doctor away.\") )"
   ]
  },
  {
   "cell_type": "markdown",
   "id": "thorough-concert",
   "metadata": {},
   "source": [
    "***"
   ]
  },
  {
   "cell_type": "markdown",
   "id": "identical-memorial",
   "metadata": {},
   "source": [
    "5. Write a regular expression that will match the states that voted yes to President Trump's impeachment. You must use RegEx positive lookahead.\n",
    "\n",
    "__Ans:-__"
   ]
  },
  {
   "cell_type": "code",
   "execution_count": 5,
   "id": "vulnerable-exhaust",
   "metadata": {},
   "outputs": [
    {
     "data": {
      "text/plain": [
       "['California', 'Florida']"
      ]
     },
     "execution_count": 5,
     "metadata": {},
     "output_type": "execute_result"
    }
   ],
   "source": [
    "import re\n",
    "\n",
    "txt = \"Texas = no, California = yes, Florida = yes, Michigan = no\"\n",
    "pattern = r\"\\w+(?= = yes)\"\n",
    "\n",
    "re.findall(pattern, txt)"
   ]
  },
  {
   "cell_type": "markdown",
   "id": "outstanding-sitting",
   "metadata": {},
   "source": []
  }
 ],
 "metadata": {
  "kernelspec": {
   "display_name": "Python 3",
   "language": "python",
   "name": "python3"
  },
  "language_info": {
   "codemirror_mode": {
    "name": "ipython",
    "version": 3
   },
   "file_extension": ".py",
   "mimetype": "text/x-python",
   "name": "python",
   "nbconvert_exporter": "python",
   "pygments_lexer": "ipython3",
   "version": "3.8.7"
  }
 },
 "nbformat": 4,
 "nbformat_minor": 5
}

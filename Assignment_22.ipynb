{
 "cells": [
  {
   "cell_type": "markdown",
   "id": "descending-stable",
   "metadata": {},
   "source": [
    "1. Create a class Smoothie and do the following:\n",
    "\n",
    "    - Create an instance attribute called ingredients.\n",
    "    - Create a get_cost method which calculates the total cost of the ingredients used to make the smoothie.\n",
    "    - Create a get_price method which returns the number from get_cost plus the number from get_cost multiplied by 1.5. Round to two decimal places.\n",
    "    - Create a get_name method which gets the ingredients and puts them in alphabetical order into a nice descriptive sentence. If there are multiple ingredients, add the word \"Fusion\" to the end but otherwise, add \"Smoothie\". Remember to change \"-berries\" to \"-berry\". See the examples below.\n",
    "\n",
    "    Ingredient\t   Price\n",
    "    \n",
    "    Strawberries   $1.50\n",
    "    \n",
    "    Banana\t       $0.50\n",
    "    \n",
    "    Mango\t       $2.50\n",
    "    \n",
    "    Blueberries\t   $1.00\n",
    "    \n",
    "    Raspberries\t   $1.00\n",
    "    \n",
    "    Apple\t       $1.75\n",
    "    \n",
    "    Pineapple\t   $3.50\n",
    "    \n",
    "__Ans:-__"
   ]
  },
  {
   "cell_type": "code",
   "execution_count": 1,
   "id": "secret-chinese",
   "metadata": {},
   "outputs": [
    {
     "name": "stdout",
     "output_type": "stream",
     "text": [
      "['Banana']\n",
      "$0.5\n",
      "$1.25\n",
      "Banana Smoothie\n",
      "['Raspberries', 'Strawberries', 'Blueberries']\n",
      "$3.5\n",
      "$8.75\n",
      "Blueberry Raspberry Strawberry Fusion\n"
     ]
    }
   ],
   "source": [
    "class Smoothie:\n",
    "    ingredient = {\n",
    "        'Strawberries' : '$1.50',\n",
    "        'Banana' : '$0.50',\n",
    "        'Mango' : '$2.50',\n",
    "        'Blueberries' : '$1.00',\n",
    "        'Raspberries' : '$1.00',\n",
    "        'Apple': '$1.75',\n",
    "        'Pineapple' :'$3.50'\n",
    "    }\n",
    "    \n",
    "    def __init__(self, ingredients):\n",
    "        self.ingredients = ingredients\n",
    "    \n",
    "    def get_cost(self):\n",
    "        cost = 0\n",
    "        for i in self.ingredients:\n",
    "            if i in Smoothie.ingredient:\n",
    "                cost += float(Smoothie.ingredient[i][1:])               \n",
    "        return '$' + str(cost)\n",
    "    \n",
    "    def get_price(self):\n",
    "        cost = self.get_cost()\n",
    "        return '$' + str(round(float(str(cost)[1:]) + 1.5 * float(str(cost)[1:]), 2))\n",
    "    \n",
    "    def get_name(self):\n",
    "        def singular(ingredients, keyword):\n",
    "            for i in range(len(ingredients)):\n",
    "                value = ingredients[i]\n",
    "                if value[-3:] == 'ies':\n",
    "                    ingredients[i] = value[:-3] + 'y'\n",
    "            ingredients = sorted(ingredients)\n",
    "            ingredients.append(keyword)\n",
    "            return ' '.join(ingredients)\n",
    "\n",
    "        if len(self.ingredients) > 1:\n",
    "            return singular(self.ingredients, 'Fusion')\n",
    "        else:\n",
    "            return singular(self.ingredients, 'Smoothie')\n",
    "        \n",
    "s1 = Smoothie([\"Banana\"])\n",
    "\n",
    "print(s1.ingredients)\n",
    "\n",
    "print(s1.get_cost() )\n",
    "\n",
    "print(s1.get_price() )\n",
    "\n",
    "print(s1.get_name() )\n",
    "\n",
    "s2 = Smoothie([\"Raspberries\", \"Strawberries\", \"Blueberries\"])\n",
    "\n",
    "print(s2.ingredients)\n",
    "\n",
    "print(s2.get_cost() )\n",
    "\n",
    "print(s2.get_price() )\n",
    "\n",
    "print(s2.get_name() )\n"
   ]
  },
  {
   "cell_type": "markdown",
   "id": "basic-agent",
   "metadata": {},
   "source": [
    "***"
   ]
  },
  {
   "cell_type": "markdown",
   "id": "incredible-signal",
   "metadata": {},
   "source": [
    "2. Your task is to write a program which allows teachers to create a multiple choice test in a class called Testpaper and to be also able to assign a minimum pass mark. The testpaper's subject should also be included. The attributes are in the following order:\n",
    "\n",
    "  1. subject\n",
    "  2. markscheme\n",
    "  3. pass_mark\n",
    "\n",
    "    As well as that, we need to create student objects to take the test itself! Create another class called Student and do the following:\n",
    "\n",
    "  - Create an attribute called tests_taken and set the default as 'No tests taken'.\n",
    "  - Make a method called take_test(), which takes in the testpaper object they are completing and the student's answers. Compare what they wrote to the mark scheme, and append to the/create a dictionary assigned to tests_taken in the way as shown in the point below.\n",
    "  - Each key in the dictionary should be the testpaper subject and each value should be a string in the format seen in the examples below (whether or not the student has failed, and their percentage in brackets).\n",
    "\n",
    "__Ans:-__"
   ]
  },
  {
   "cell_type": "code",
   "execution_count": 2,
   "id": "plastic-milton",
   "metadata": {},
   "outputs": [
    {
     "name": "stdout",
     "output_type": "stream",
     "text": [
      "No tests taken\n",
      "{'Maths': 'Passed! (80%)'}\n",
      "{'Chemistry': 'Failed! (25%)', 'Computing': 'Failed! (43%)'}\n"
     ]
    }
   ],
   "source": [
    "class Testpaper: \n",
    "    def __init__(self, subject, markscheme, pass_marks):\n",
    "        self.subject = subject\n",
    "        self.markscheme = markscheme\n",
    "        self.pass_marks = pass_marks\n",
    "        \n",
    "class Student:\n",
    "    def __init__(self):\n",
    "        self.tests_taken = 'No tests taken'\n",
    "    def take_test(self, paper, answers):\n",
    "    \n",
    "        def cal_percentage(markscheme, answers):\n",
    "            set_markscheme = set(markscheme)\n",
    "            ans_correct = 0\n",
    "            for ans in answers:\n",
    "                if ans in set_markscheme:\n",
    "                    ans_correct += 1\n",
    "            return round((ans_correct/len(markscheme)) * 100)\n",
    "        \n",
    "        percentage = cal_percentage(paper.markscheme, answers)\n",
    "            \n",
    "        if type(self.tests_taken) == str:\n",
    "            self.tests_taken = {}\n",
    "            \n",
    "        if percentage >= int(paper.pass_marks[:-1]):\n",
    "            self.tests_taken[paper.subject] = 'Passed! (' + str(percentage) + '%)'\n",
    "        else:\n",
    "            self.tests_taken[paper.subject] = 'Failed! (' + str(percentage) + '%)'\n",
    "        \n",
    "paper1 = Testpaper(\"Maths\", [\"1A\", \"2C\", \"3D\", \"4A\", \"5A\"], \"60%\")\n",
    "paper2 = Testpaper(\"Chemistry\", [\"1C\", \"2C\", \"3D\", \"4A\"], \"75%\")\n",
    "paper3 = Testpaper(\"Computing\", [\"1D\", \"2C\", \"3C\", \"4B\", \"5D\", \"6C\", \"7A\"], \"75%\")\n",
    "\n",
    "student1 = Student()\n",
    "student2 = Student()\n",
    "\n",
    "print(student1.tests_taken)\n",
    "student1.take_test(paper1, [\"1A\", \"2D\", \"3D\", \"4A\", \"5A\"])\n",
    "print(student1.tests_taken)\n",
    "\n",
    "student2.take_test(paper2, [\"1C\", \"2D\", \"3A\", \"4C\"])\n",
    "student2.take_test(paper3, [\"1A\", \"2C\", \"3A\", \"4C\", \"5D\", \"6C\", \"7B\"])\n",
    "print(student2.tests_taken)\n"
   ]
  },
  {
   "cell_type": "markdown",
   "id": "hundred-administrator",
   "metadata": {},
   "source": [
    "***"
   ]
  },
  {
   "cell_type": "code",
   "execution_count": 3,
   "id": "historical-paradise",
   "metadata": {},
   "outputs": [
    {
     "name": "stdout",
     "output_type": "stream",
     "text": [
      "13:04\n",
      "14:40\n",
      "14:42\n"
     ]
    }
   ],
   "source": [
    "class Train:\n",
    "    \n",
    "    def __init__(self, destination, expected_time):\n",
    "        self.destination = destination\n",
    "        self.expected_time = expected_time\n",
    "    \n",
    "def manage_delays(train_obj, destination, delay):\n",
    "    if destination in train_obj.destination:\n",
    "        split_delay = train_obj.expected_time.split(':')\n",
    "        hours_added = str(int(split_delay[0]) + int(delay // 60))\n",
    "        minutes_added = str(int(split_delay[1]) + int(delay % 60))\n",
    "        train_obj.expected_time = hours_added + ':' + minutes_added\n",
    "\n",
    "trains = [\n",
    "  Train([\"Townsville\", \"Suburbia\", \"Urbantska\"], \"13:04\"),\n",
    "  Train([\"Farmsdale\", \"Suburbia\", \"Lakeside Valley\"], \"13:20\"),\n",
    "  Train([\"Suburbia\", \"Townsville\", \"Lakeside Valley\"], \"13:22\")\n",
    "]\n",
    "\n",
    "for t in trains:\n",
    "    manage_delays(t, \"Lakeside Valley\", 80)\n",
    "       \n",
    "for i in range(len(trains)):\n",
    "    print(trains[i].expected_time)"
   ]
  },
  {
   "cell_type": "markdown",
   "id": "trying-antique",
   "metadata": {},
   "source": [
    "***"
   ]
  },
  {
   "cell_type": "markdown",
   "id": "demographic-siemens",
   "metadata": {},
   "source": [
    "4. Ted works as a computer programmer at Minecraft Inc. His boss has just given him an important assignment to update the code for the minecart tracks by the end of April. However, he has recently had to self-isolate due to Corvid-19 and has left the code for the tracks BACK AT WORK!! He has the shorthand for the tracks he's supposed to look at, and where the carts are suppost to end up, but not the actual code.\n",
    "\n",
    "__Ans:-__"
   ]
  },
  {
   "cell_type": "code",
   "execution_count": 4,
   "id": "stuffed-dover",
   "metadata": {},
   "outputs": [
    {
     "name": "stdout",
     "output_type": "stream",
     "text": [
      "True\n",
      "1\n"
     ]
    }
   ],
   "source": [
    "class Track:\n",
    "    \n",
    "    def slow_down(self, current_speed):\n",
    "        return current_speed - 2.67\n",
    "    \n",
    "    def fast(self, current_speed):\n",
    "        return current_speed + 2.67\n",
    "    \n",
    "    def unpowered(self, current_speed):\n",
    "        return current_speed - 1\n",
    "\n",
    "def mine_run(lis):\n",
    "    t = Track()\n",
    "    current_speed = 0\n",
    "    \n",
    "    for index, track in enumerate(lis):\n",
    "        if track[0] == '<' and track[len(track) - 1] == '>':\n",
    "            continue\n",
    "        elif track[0] == '<':\n",
    "            current_speed = t.slow_down(current_speed)\n",
    "        elif track[len(track) - 1] == '>':\n",
    "            current_speed = t.fast(current_speed)\n",
    "        else:\n",
    "            current_speed = t.unpowered(current_speed)\n",
    "        \n",
    "        if current_speed <= 0 and index != len(lis) - 1:\n",
    "            return index\n",
    "    return True\n",
    "\n",
    "print(mine_run([\"-->\", \"-->\", \"-->\", \"<--\", \"<--\", \"<--\"]))\n",
    "print(mine_run([\"-->\", \"<--\", \"-->\", \"-->\", \"<-->\", \"---\"]))"
   ]
  },
  {
   "cell_type": "markdown",
   "id": "fantastic-gnome",
   "metadata": {},
   "source": [
    "***"
   ]
  },
  {
   "cell_type": "markdown",
   "id": "brief-indonesia",
   "metadata": {},
   "source": [
    "5. Make a Rectangle class with four parameters, an x, a y (representing the top-left corner of the rectangle), a width and a height exclusively in that order.\n",
    "\n",
    "    Lastly, make a function intersecting that takes two Rectangle objects and returns True if those objects are intersecting (colliding), else return False.\n",
    "\n",
    "__Ans:-__"
   ]
  },
  {
   "cell_type": "code",
   "execution_count": 5,
   "id": "veterinary-iraqi",
   "metadata": {},
   "outputs": [
    {
     "name": "stdout",
     "output_type": "stream",
     "text": [
      "True\n",
      "False\n",
      "True\n"
     ]
    }
   ],
   "source": [
    "class Rectangle:\n",
    "    \n",
    "    def __init__(self, x, y, width, height):\n",
    "        self.x = x\n",
    "        self.y = y\n",
    "        self.width = width\n",
    "        self.height = height\n",
    "    \n",
    "def intersecting(rect1, rect2):\n",
    "    top_right_rect1 = [rect1.x + rect1.width, rect1.y]\n",
    "    top_right_rect2 = [rect2.x + rect2.width, rect2.y]\n",
    "    bottom_left_rect1 = [rect1.x, rect1.y + rect1.height]\n",
    "    bottom_left_rect2 = [rect2.x, rect2.y + rect2.height]\n",
    "    \n",
    "    return not(top_right_rect1[0] < bottom_left_rect2[0] or \\\n",
    "            bottom_left_rect1[0] > top_right_rect2[0] or \\\n",
    "            top_right_rect2[0] < bottom_left_rect1[0] or \\\n",
    "            bottom_left_rect2[0] > top_right_rect1[0])\n",
    "\n",
    "a = Rectangle(10, 20, 100, 20)\n",
    "b = Rectangle(11, 30, 15, 20)\n",
    "c = Rectangle(50, 50, 20, 30)\n",
    "\n",
    "print(intersecting(a, b))\n",
    "print(intersecting(b, c))\n",
    "print(intersecting(a, c))"
   ]
  },
  {
   "cell_type": "code",
   "execution_count": null,
   "id": "novel-intro",
   "metadata": {},
   "outputs": [],
   "source": []
  }
 ],
 "metadata": {
  "kernelspec": {
   "display_name": "Python 3",
   "language": "python",
   "name": "python3"
  },
  "language_info": {
   "codemirror_mode": {
    "name": "ipython",
    "version": 3
   },
   "file_extension": ".py",
   "mimetype": "text/x-python",
   "name": "python",
   "nbconvert_exporter": "python",
   "pygments_lexer": "ipython3",
   "version": "3.8.7"
  }
 },
 "nbformat": 4,
 "nbformat_minor": 5
}

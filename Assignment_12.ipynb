{
 "cells": [
  {
   "cell_type": "markdown",
   "id": "committed-typing",
   "metadata": {},
   "source": [
    "1. For this challenge, forget how to add two numbers together. The best explanation on what to do for this function is this meme:\n",
    "\n",
    "__Ans:-__"
   ]
  },
  {
   "cell_type": "code",
   "execution_count": 1,
   "id": "written-trace",
   "metadata": {},
   "outputs": [
    {
     "name": "stdout",
     "output_type": "stream",
     "text": [
      "515\n",
      "1103\n",
      "31499\n"
     ]
    }
   ],
   "source": [
    "def meme_sum(num1, num2):\n",
    "    string_num1 = str(num1)\n",
    "    string_num2 = str(num2)\n",
    "    \n",
    "    if len(string_num1) > len(string_num2):\n",
    "        string_num2 = str(0) + string_num2\n",
    "    elif len(string_num1) < len(string_num2):\n",
    "        string_num1 = str(0) + string_num1\n",
    "        \n",
    "    return ''.join([str((int(string_num1[len(string_num1) - 1 - counter]) + int(string_num2[len(string_num2) - 1 - counter])))\\\n",
    "                    for counter in range(len(string_num1) - 1, -1, -1)])\n",
    "\n",
    "print(meme_sum(26, 39))\n",
    "print(meme_sum(122, 81))\n",
    "print(meme_sum(1222, 30277))"
   ]
  },
  {
   "cell_type": "markdown",
   "id": "three-indonesia",
   "metadata": {},
   "source": [
    "***"
   ]
  },
  {
   "cell_type": "markdown",
   "id": "brutal-phenomenon",
   "metadata": {},
   "source": [
    "2. Given an integer, create a function that returns the next prime. If the number is prime, return the number itself.\n",
    "\n",
    "__Ans:-__"
   ]
  },
  {
   "cell_type": "code",
   "execution_count": 2,
   "id": "inner-bowling",
   "metadata": {},
   "outputs": [
    {
     "name": "stdout",
     "output_type": "stream",
     "text": [
      "13\n",
      "29\n",
      "11\n"
     ]
    }
   ],
   "source": [
    "from math import floor, sqrt\n",
    "def next_prime(num):\n",
    "    while True:\n",
    "        counter = 2\n",
    "        while counter < floor(sqrt(num)) + 1:\n",
    "            if not num % counter:\n",
    "                num += 1\n",
    "                counter = 2\n",
    "            else:\n",
    "                counter += 1\n",
    "        return num\n",
    "\n",
    "print(next_prime(12))\n",
    "print(next_prime(24))\n",
    "print(next_prime(11))"
   ]
  },
  {
   "cell_type": "markdown",
   "id": "unlimited-relationship",
   "metadata": {},
   "source": [
    "***"
   ]
  },
  {
   "cell_type": "markdown",
   "id": "accessible-accordance",
   "metadata": {},
   "source": [
    "3. Write a function that returns the average speed traveled given an uphill time, uphill rate and a downhill rate. Uphill time is given in minutes. Return the rate as an integer (mph).\n",
    "\n",
    "__Ans:-__"
   ]
  },
  {
   "cell_type": "code",
   "execution_count": 3,
   "id": "found-ferry",
   "metadata": {},
   "outputs": [
    {
     "name": "stdout",
     "output_type": "stream",
     "text": [
      "30\n",
      "15\n",
      "12\n"
     ]
    }
   ],
   "source": [
    "def ave_spd(minutes, up_speed, down_speed):\n",
    "    return ((2 * up_speed * down_speed)//(up_speed + down_speed))\n",
    "\n",
    "print(ave_spd(18, 20, 60))\n",
    "print(ave_spd(30, 10, 30))\n",
    "print(ave_spd(30, 8, 24))"
   ]
  },
  {
   "cell_type": "markdown",
   "id": "cultural-details",
   "metadata": {},
   "source": [
    "***"
   ]
  },
  {
   "cell_type": "markdown",
   "id": "sunset-criminal",
   "metadata": {},
   "source": [
    "4. The Kempner Function, applied to a composite number, permits to find the smallest integer greater than zero whose factorial is exactly divided by the number.\n",
    "\n",
    "__Ans:-__"
   ]
  },
  {
   "cell_type": "code",
   "execution_count": 4,
   "id": "likely-moral",
   "metadata": {},
   "outputs": [
    {
     "name": "stdout",
     "output_type": "stream",
     "text": [
      "17\n",
      "6\n",
      "3\n",
      "5\n"
     ]
    }
   ],
   "source": [
    "def kemper(num):\n",
    "    counter, fact = 1,1 \n",
    "    while counter < num:\n",
    "        fact *= counter\n",
    "        if not fact % num:\n",
    "            return counter\n",
    "        counter += 1\n",
    "    return num\n",
    "print(kemper(17))\n",
    "print(kemper(9))\n",
    "print(kemper(6))\n",
    "print(kemper(10))"
   ]
  },
  {
   "cell_type": "markdown",
   "id": "czech-cursor",
   "metadata": {},
   "source": [
    "***"
   ]
  },
  {
   "cell_type": "markdown",
   "id": "utility-greek",
   "metadata": {},
   "source": [
    "5. You work in a factory, and your job is to take items from a conveyor belt and pack them into boxes. Each box can hold a maximum of 10 kgs. Given a list containing the weight (in kg) of each item, how many boxes would you need to pack all of the items?\n",
    "\n",
    "__Ans:-__"
   ]
  },
  {
   "cell_type": "code",
   "execution_count": 5,
   "id": "provincial-calcium",
   "metadata": {},
   "outputs": [
    {
     "name": "stdout",
     "output_type": "stream",
     "text": [
      "5\n"
     ]
    }
   ],
   "source": [
    "def boxes(lis):\n",
    "    no_boxes = 1\n",
    "    add = 0\n",
    "    for i in lis:\n",
    "        add += i\n",
    "        if add > 10:\n",
    "            no_boxes += 1\n",
    "            add = 0\n",
    "            add += i\n",
    "    return no_boxes\n",
    "    \n",
    "print(boxes([2, 1, 2, 5, 4, 3, 6, 1, 1, 9, 3, 2]))"
   ]
  }
 ],
 "metadata": {
  "kernelspec": {
   "display_name": "Python 3",
   "language": "python",
   "name": "python3"
  },
  "language_info": {
   "codemirror_mode": {
    "name": "ipython",
    "version": 3
   },
   "file_extension": ".py",
   "mimetype": "text/x-python",
   "name": "python",
   "nbconvert_exporter": "python",
   "pygments_lexer": "ipython3",
   "version": "3.8.7"
  }
 },
 "nbformat": 4,
 "nbformat_minor": 5
}

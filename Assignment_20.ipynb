{
 "cells": [
  {
   "cell_type": "markdown",
   "id": "driven-thunder",
   "metadata": {},
   "source": [
    "1. Create a function based on the input and output. Look at the examples, there is a pattern.\n",
    "\n",
    "__Ans:-__"
   ]
  },
  {
   "cell_type": "code",
   "execution_count": 1,
   "id": "occupational-intake",
   "metadata": {},
   "outputs": [
    {
     "name": "stdout",
     "output_type": "stream",
     "text": [
      "<p class=one two three></p>\n",
      "<h2 class=one six five four seven></h2>\n",
      "<p class=four five></p>\n",
      "<table></table>\n"
     ]
    }
   ],
   "source": [
    "def secret(string):\n",
    "    splited_string = string.split('.')\n",
    "    \n",
    "    returned_string = ['<',splited_string[0]]\n",
    "    \n",
    "    if len(splited_string) >= 2:\n",
    "        returned_string.extend([' class=', splited_string[1]])\n",
    "    \n",
    "    for class_name in splited_string[2:]:\n",
    "        returned_string.append(' ' + class_name)\n",
    "        \n",
    "    returned_string.extend(['></',splited_string[0],'>'])\n",
    "        \n",
    "    return ''.join(returned_string)\n",
    "\n",
    "print(secret(\"p.one.two.three\"))\n",
    "print(secret(\"h2.one.six.five.four.seven\"))\n",
    "print(secret(\"p.four.five\"))\n",
    "print(secret('table'))"
   ]
  },
  {
   "cell_type": "markdown",
   "id": "quick-gilbert",
   "metadata": {},
   "source": [
    "***"
   ]
  },
  {
   "cell_type": "markdown",
   "id": "ordered-albany",
   "metadata": {},
   "source": [
    "2. Create a function which counts how many lone 1s appear in a given number. Lone means the number doesn't appear twice or more in a row.\n",
    "\n",
    "__Ans:-__"
   ]
  },
  {
   "cell_type": "code",
   "execution_count": 2,
   "id": "coastal-potential",
   "metadata": {},
   "outputs": [
    {
     "name": "stdout",
     "output_type": "stream",
     "text": [
      "2\n",
      "2\n",
      "0\n",
      "0\n"
     ]
    }
   ],
   "source": [
    "def count_lone_ones(num):\n",
    "    string_num = str(num)\n",
    "    if len(string_num) == 1:\n",
    "        return 0 if string_num != '1' else 1\n",
    "    \n",
    "    lone_ones = 0\n",
    "    # Check for first index\n",
    "    if string_num[0] == '1' and string_num[1] != '1':\n",
    "        lone_ones += 1\n",
    "    # Check for last index\n",
    "    if string_num[len(string_num) - 1] == '1' and string_num[len(string_num) - 2] != '1':\n",
    "        lone_ones += 1\n",
    "    \n",
    "    for i in range(1, len(string_num) - 1):\n",
    "        \n",
    "        if string_num[i] == '1':\n",
    "            if string_num[i - 1] != '1' and string_num[i + 1] != '1':\n",
    "                lone_ones += 1\n",
    "    return lone_ones\n",
    "    \n",
    "print(count_lone_ones(101))\n",
    "print(count_lone_ones(1091))\n",
    "print(count_lone_ones(1111))\n",
    "print(count_lone_ones(463))"
   ]
  },
  {
   "cell_type": "markdown",
   "id": "settled-marker",
   "metadata": {},
   "source": [
    "***"
   ]
  },
  {
   "cell_type": "markdown",
   "id": "suspended-rotation",
   "metadata": {},
   "source": [
    "3. Write a method that accepts two integer parameters rows and cols. The output is a 2d array of numbers displayed in column-major order, meaning the numbers shown increase sequentially down each column and wrap to the top of the next column to the right once the bottom of the current column is reached.\n",
    "\n",
    "__Ans:-__"
   ]
  },
  {
   "cell_type": "code",
   "execution_count": 3,
   "id": "elementary-fourth",
   "metadata": {},
   "outputs": [
    {
     "name": "stdout",
     "output_type": "stream",
     "text": [
      "[[1, 4, 7, 10, 13, 16], [2, 5, 8, 11, 14, 17], [3, 6, 9, 12, 15, 18]]\n",
      "[[1, 6, 11], [2, 7, 12], [3, 8, 13], [4, 9, 14], [5, 10, 15]]\n",
      "[[1], [2], [3], [4]]\n"
     ]
    }
   ],
   "source": [
    "def printGrid(rows, cols):\n",
    "    returned_list = list()\n",
    "    counter = 1\n",
    "    index = 0\n",
    "    for _ in range(rows):\n",
    "        returned_list.append([])\n",
    "        for entry in range(cols):\n",
    "            returned_list[index].append(counter)\n",
    "            counter += rows\n",
    "        counter = returned_list[index][0] + 1\n",
    "        index += 1\n",
    "    return returned_list\n",
    "\n",
    "print(printGrid(3, 6))\n",
    "print(printGrid(5, 3))\n",
    "print(printGrid(4, 1))"
   ]
  },
  {
   "cell_type": "markdown",
   "id": "swiss-suite",
   "metadata": {},
   "source": [
    "***"
   ]
  },
  {
   "cell_type": "markdown",
   "id": "administrative-identity",
   "metadata": {},
   "source": [
    "4. Given a list of integers, return the smallest positive integer not present in the list.\n",
    "\n",
    "__Ans:-__"
   ]
  },
  {
   "cell_type": "code",
   "execution_count": 4,
   "id": "serial-section",
   "metadata": {},
   "outputs": [
    {
     "name": "stdout",
     "output_type": "stream",
     "text": [
      "8\n",
      "2\n",
      "1\n"
     ]
    }
   ],
   "source": [
    "def min_miss_pos(lis):\n",
    "    set_lis = set(lis)\n",
    "    counter = 1\n",
    "    while True:\n",
    "        if counter not in set_lis:\n",
    "            return counter\n",
    "        counter += 1\n",
    "\n",
    "print(min_miss_pos([-2, 6, 4, 5, 7, -1, 1, 3, 6, -2, 9, 10, 2, 2]))\n",
    "print(min_miss_pos([5, 9, -2, 0, 1, 3, 9, 3, 8, 9]))\n",
    "print(min_miss_pos([0, 4, 4, -1, 9, 4, 5, 2, 10, 7, 6, 3, 10, 9]))"
   ]
  },
  {
   "cell_type": "markdown",
   "id": "existing-sydney",
   "metadata": {},
   "source": [
    "***"
   ]
  },
  {
   "cell_type": "markdown",
   "id": "extensive-channel",
   "metadata": {},
   "source": [
    "5. Google is launching a network of autonomous pizza delivery drones and wants you to create a flexible rewards system (Pizza Points™) that can be tweaked in the future. The rules are simple: if a customer has made at least N orders of at least Y price, they get a FREE pizza!\n",
    "\n",
    "    Create a function that takes a dictionary of customers, a minimum number of orders and a minimum order price. Return a list of customers that are eligible for a free pizza.\n",
    "    \n",
    "__Ans:-__\n"
   ]
  },
  {
   "cell_type": "code",
   "execution_count": 5,
   "id": "copyrighted-benjamin",
   "metadata": {},
   "outputs": [
    {
     "name": "stdout",
     "output_type": "stream",
     "text": [
      "['Spider-Man']\n",
      "['Batman', 'Spider-Man']\n",
      "[]\n"
     ]
    }
   ],
   "source": [
    "def pizza_points(customers, min_order, min_price):\n",
    "    returned_list = []\n",
    "    \n",
    "    for key, value in customers.items():\n",
    "        is_free = True if len(list(filter(lambda x: x > min_price, value))) > min_order else False\n",
    "        if is_free:\n",
    "            returned_list.append(key)\n",
    "    return returned_list\n",
    "\n",
    "customers = {\n",
    "  \"Batman\": [22, 30, 11, 17, 15, 52, 27, 12],\n",
    "  \"Spider-Man\": [5, 17, 30, 33, 40, 22, 26, 10, 11, 45]\n",
    "}\n",
    "\n",
    "print(pizza_points(customers, 5, 20))\n",
    "print(pizza_points(customers, 3, 10))\n",
    "print(pizza_points(customers, 5, 100))"
   ]
  },
  {
   "cell_type": "code",
   "execution_count": null,
   "id": "promising-press",
   "metadata": {},
   "outputs": [],
   "source": []
  }
 ],
 "metadata": {
  "kernelspec": {
   "display_name": "Python 3",
   "language": "python",
   "name": "python3"
  },
  "language_info": {
   "codemirror_mode": {
    "name": "ipython",
    "version": 3
   },
   "file_extension": ".py",
   "mimetype": "text/x-python",
   "name": "python",
   "nbconvert_exporter": "python",
   "pygments_lexer": "ipython3",
   "version": "3.8.7"
  }
 },
 "nbformat": 4,
 "nbformat_minor": 5
}

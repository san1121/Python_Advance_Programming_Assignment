{
 "cells": [
  {
   "cell_type": "markdown",
   "id": "figured-olympus",
   "metadata": {},
   "source": [
    "1. Create a function that takes a number n (integer greater than zero) as an argument, and returns 2 if n is odd and 8 if n is even.\n",
    "\n",
    "    You can only use the following arithmetic operators: addition of numbers +, subtraction of numbers -, multiplication of number *, division of number /, and exponentiation **.\n",
    "\n",
    "    You are not allowed to use any other methods in this challenge (i.e. no if statements, comparison operators, etc).\n",
    "\n",
    "__Ans:-__"
   ]
  },
  {
   "cell_type": "code",
   "execution_count": 1,
   "id": "civic-concord",
   "metadata": {},
   "outputs": [
    {
     "name": "stdout",
     "output_type": "stream",
     "text": [
      "8\n",
      "2\n",
      "2\n"
     ]
    }
   ],
   "source": [
    "def f(num):\n",
    "    arr = [8, 2]\n",
    "    last_num = int(str(num)[len(str(num)) - 1])\n",
    "    return arr[(last_num) - (2 * (last_num//2))]\n",
    "\n",
    "print(f(2))\n",
    "print(f(3))\n",
    "print(f(71))"
   ]
  },
  {
   "cell_type": "markdown",
   "id": "hydraulic-intervention",
   "metadata": {},
   "source": [
    "***"
   ]
  },
  {
   "cell_type": "markdown",
   "id": "expired-wheel",
   "metadata": {},
   "source": [
    "2. Create a function that returns the majority vote in a list. A majority vote is an element that occurs > N/2 times in a list (where N is the length of the list).\n",
    "\n",
    "__Ans:-__"
   ]
  },
  {
   "cell_type": "code",
   "execution_count": 2,
   "id": "drawn-nelson",
   "metadata": {},
   "outputs": [
    {
     "name": "stdout",
     "output_type": "stream",
     "text": [
      "A\n",
      "A\n",
      "None\n",
      "\n",
      "A\n",
      "A\n",
      "None\n"
     ]
    }
   ],
   "source": [
    "import re\n",
    "def majority_vote(lis):\n",
    "    result = list(filter(lambda x: len(re.findall(x, ''.join(lis))) > len(lis)/2, lis))\n",
    "    return result[0] if result else None\n",
    "\n",
    "def effeciant_majority_vote(lis):\n",
    "    freq = dict()\n",
    "    for i in lis:\n",
    "        freq[i] = freq.get(i, 0) + 1\n",
    "    \n",
    "    for key, value in freq.items():\n",
    "        if value > len(lis)/2:\n",
    "            return key\n",
    "    return None\n",
    "\n",
    "print(majority_vote([\"A\", \"A\", \"B\"]))\n",
    "print(majority_vote([\"A\", \"A\", \"A\", \"B\", \"C\", \"A\"]))\n",
    "print(majority_vote([\"A\", \"B\", \"B\", \"A\", \"C\", \"C\"]) )\n",
    "print()\n",
    "print(effeciant_majority_vote([\"A\", \"A\", \"B\"]))\n",
    "print(effeciant_majority_vote([\"A\", \"A\", \"A\", \"B\", \"C\", \"A\"]))\n",
    "print(effeciant_majority_vote([\"A\", \"B\", \"B\", \"A\", \"C\", \"C\"]) )"
   ]
  },
  {
   "cell_type": "markdown",
   "id": "prepared-genesis",
   "metadata": {},
   "source": [
    "***"
   ]
  },
  {
   "cell_type": "markdown",
   "id": "underlying-burton",
   "metadata": {},
   "source": [
    "3. Create a function that takes a string txt and censors any word from a given list lst. The text removed must be replaced by the given character char.\n",
    "\n",
    "__Ans:-__"
   ]
  },
  {
   "cell_type": "code",
   "execution_count": 3,
   "id": "serious-president",
   "metadata": {},
   "outputs": [
    {
     "name": "stdout",
     "output_type": "stream",
     "text": [
      "----- is - Wednesd-y!\n",
      "Why *** the ******* cross the ****?\n"
     ]
    }
   ],
   "source": [
    "import re\n",
    "def censor_string(string, lis, replacement):\n",
    "    new_string = string\n",
    "    for i in lis:\n",
    "        new_string = re.sub(re.compile(i, re.IGNORECASE),replacement * len(i),new_string)\n",
    "    return new_string\n",
    "\n",
    "    \n",
    "print(censor_string(\"Today is a Wednesday!\", [\"Today\", \"a\"], \"-\"))\n",
    "print(censor_string(\"Why did the chicken cross the road?\", [\"Did\", \"chicken\", \"road\"], \"*\"))"
   ]
  },
  {
   "cell_type": "markdown",
   "id": "greenhouse-bicycle",
   "metadata": {},
   "source": [
    "***"
   ]
  },
  {
   "cell_type": "markdown",
   "id": "adequate-pierre",
   "metadata": {},
   "source": [
    "4. Create a function which takes an integer n and returns True if the given number is a Polydivisible Number and False otherwise.\n",
    "\n",
    "__Ans:-__"
   ]
  },
  {
   "cell_type": "code",
   "execution_count": 4,
   "id": "false-johns",
   "metadata": {},
   "outputs": [
    {
     "name": "stdout",
     "output_type": "stream",
     "text": [
      "True\n",
      "False\n"
     ]
    }
   ],
   "source": [
    "def is_polydivisible(num):\n",
    "    if str(num)[0] == 0:\n",
    "        return False\n",
    "    for i in range(1, len(str(num))):\n",
    "        if int((str(num))[:i + 1]) % (i + 1):\n",
    "            return False\n",
    "    return True\n",
    "\n",
    "print(is_polydivisible(1232))\n",
    "print(is_polydivisible(123220))"
   ]
  },
  {
   "cell_type": "markdown",
   "id": "occasional-lawrence",
   "metadata": {},
   "source": [
    "***"
   ]
  },
  {
   "cell_type": "markdown",
   "id": "extraordinary-spanking",
   "metadata": {},
   "source": [
    "5. Create a function that takes a list of numbers and returns the sum of all prime numbers in the list.\n",
    "\n",
    "__Ans:-__"
   ]
  },
  {
   "cell_type": "code",
   "execution_count": 5,
   "id": "violent-smart",
   "metadata": {},
   "outputs": [
    {
     "name": "stdout",
     "output_type": "stream",
     "text": [
      "18\n",
      "87\n",
      "None\n",
      "0\n"
     ]
    }
   ],
   "source": [
    "from math import floor, sqrt\n",
    "\n",
    "def prime(num):\n",
    "    while True:\n",
    "        for i in range(2, floor(sqrt(num)) + 1):\n",
    "            if not num % i:\n",
    "                return False\n",
    "        return True\n",
    "    \n",
    "def sum_primes(lis):\n",
    "    if len(lis) == 0:\n",
    "        return None\n",
    "    return sum(list(filter(prime, lis)))\n",
    "\n",
    "print(sum_primes([1, 2, 3, 4, 5, 6, 7, 8, 9, 10]))\n",
    "print(sum_primes([2, 3, 4, 11, 20, 50, 71]))\n",
    "print(sum_primes([]))\n",
    "print(sum_primes([4,6,8,10]))"
   ]
  },
  {
   "cell_type": "code",
   "execution_count": null,
   "id": "infrared-arthritis",
   "metadata": {},
   "outputs": [],
   "source": []
  }
 ],
 "metadata": {
  "kernelspec": {
   "display_name": "Python 3",
   "language": "python",
   "name": "python3"
  },
  "language_info": {
   "codemirror_mode": {
    "name": "ipython",
    "version": 3
   },
   "file_extension": ".py",
   "mimetype": "text/x-python",
   "name": "python",
   "nbconvert_exporter": "python",
   "pygments_lexer": "ipython3",
   "version": "3.8.7"
  }
 },
 "nbformat": 4,
 "nbformat_minor": 5
}

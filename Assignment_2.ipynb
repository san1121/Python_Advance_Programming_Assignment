{
 "cells": [
  {
   "cell_type": "markdown",
   "id": "desperate-mileage",
   "metadata": {},
   "source": [
    "1. Write a function that takes a positive integer num and calculates how many dots exist in a pentagonal shape around the center dot on the Nth iteration.\n",
    "\n",
    "__Ans:-__"
   ]
  },
  {
   "cell_type": "code",
   "execution_count": 1,
   "id": "compound-wellington",
   "metadata": {},
   "outputs": [
    {
     "name": "stdout",
     "output_type": "stream",
     "text": [
      "1\n",
      "6\n",
      "16\n",
      "31\n",
      "51\n",
      "76\n",
      "106\n",
      "141\n",
      "181\n"
     ]
    }
   ],
   "source": [
    "def pentagonal(num):\n",
    "    if num <= 1:\n",
    "        return num\n",
    "    dots = 1\n",
    "    for i in range(2, num + 1):\n",
    "        dots = dots + i * 5 - 5\n",
    "    return dots\n",
    "for i in range(1, 10):\n",
    "    print(pentagonal(i))"
   ]
  },
  {
   "cell_type": "markdown",
   "id": "altered-folks",
   "metadata": {},
   "source": [
    "***"
   ]
  },
  {
   "cell_type": "code",
   "execution_count": 2,
   "id": "incorrect-jason",
   "metadata": {},
   "outputs": [
    {
     "name": "stdout",
     "output_type": "stream",
     "text": [
      "0n0n0baca\n",
      "0c0r0kaca\n"
     ]
    }
   ],
   "source": [
    "import re\n",
    "def encrypt(string):\n",
    "    reverse_string = string[::-1]\n",
    "    vowels_dict = {\n",
    "        'a' : 0,\n",
    "        'e' : 1,\n",
    "        'i' : 2,\n",
    "        'o' : 2,\n",
    "        'u' : 3\n",
    "    }\n",
    "    \n",
    "    return_string = ''.join(list(map(lambda x : str(vowels_dict.get(x, x)), reverse_string)))\n",
    "    return return_string + 'aca'\n",
    "\n",
    "print(encrypt('banana'))\n",
    "print(encrypt(\"karaca\"))"
   ]
  },
  {
   "cell_type": "markdown",
   "id": "reported-brooklyn",
   "metadata": {},
   "source": [
    "***"
   ]
  },
  {
   "cell_type": "markdown",
   "id": "persistent-detection",
   "metadata": {},
   "source": [
    "3. Given the month and year as numbers, return whether that month contains a Friday 13th.(i.e You can check Python's datetime module)\n",
    "\n",
    "__Ans:-__"
   ]
  },
  {
   "cell_type": "code",
   "execution_count": 3,
   "id": "likely-alaska",
   "metadata": {},
   "outputs": [
    {
     "name": "stdout",
     "output_type": "stream",
     "text": [
      "True\n",
      "True\n",
      "False\n"
     ]
    }
   ],
   "source": [
    "import datetime\n",
    "\n",
    "def has_friday_13(month, year):\n",
    "    return datetime.datetime(year, month, 13).weekday() == 4\n",
    "print(has_friday_13(3, 2020))\n",
    "print(has_friday_13(10, 2017))\n",
    "print(has_friday_13(1, 1985) )"
   ]
  },
  {
   "cell_type": "markdown",
   "id": "advised-worthy",
   "metadata": {},
   "source": [
    "***"
   ]
  },
  {
   "cell_type": "markdown",
   "id": "double-perry",
   "metadata": {},
   "source": [
    "4. Write a regular expression that will help us count how many bad cookies are produced every day. You must use RegEx negative lookbehind.\n",
    "\n",
    "__Ans:-__"
   ]
  },
  {
   "cell_type": "code",
   "execution_count": 4,
   "id": "attempted-release",
   "metadata": {},
   "outputs": [
    {
     "data": {
      "text/plain": [
       "2"
      ]
     },
     "execution_count": 4,
     "metadata": {},
     "output_type": "execute_result"
    }
   ],
   "source": [
    "import re\n",
    "lst = [\"bad cookie\", \"good cookie\", \"bad cookie\", \"good cookie\", \"good cookie\"]\n",
    "pattern = re.compile(r'bad cookie(?!good cookie)')\n",
    "len(re.findall(pattern, ','.join(lst)))"
   ]
  },
  {
   "cell_type": "markdown",
   "id": "congressional-venezuela",
   "metadata": {},
   "source": [
    "***"
   ]
  },
  {
   "cell_type": "markdown",
   "id": "desirable-fluid",
   "metadata": {},
   "source": [
    "5. Given a list of words in the singular form, return a set of those words in the plural form if they appear more than once in the list.\n",
    "\n",
    "__Ans:-__"
   ]
  },
  {
   "cell_type": "code",
   "execution_count": 5,
   "id": "searching-bridal",
   "metadata": {},
   "outputs": [
    {
     "name": "stdout",
     "output_type": "stream",
     "text": [
      "{'pig', 'cows'}\n",
      "{'tables'}\n",
      "{'arm', 'pencil', 'chair'}\n"
     ]
    }
   ],
   "source": [
    "def pluralize(lis):\n",
    "    plural_dict = {}\n",
    "    seen = set()\n",
    "    \n",
    "    for i in lis:\n",
    "        if i not in seen:\n",
    "            seen.add(i)\n",
    "            plural_dict[i] = False\n",
    "        else:\n",
    "            if not plural_dict.get(i + 's'):\n",
    "                plural_dict.pop(i)\n",
    "                plural_dict[i + 's'] = True\n",
    "        \n",
    "    return set(plural_dict.keys())\n",
    "\n",
    "print(pluralize([\"cow\", \"pig\", \"cow\", \"cow\"]))\n",
    "print(pluralize([\"table\", \"table\", \"table\"]))\n",
    "print(pluralize([\"chair\", \"pencil\", \"arm\"]) )"
   ]
  },
  {
   "cell_type": "code",
   "execution_count": null,
   "id": "enabling-admission",
   "metadata": {},
   "outputs": [],
   "source": []
  },
  {
   "cell_type": "code",
   "execution_count": null,
   "id": "raised-titanium",
   "metadata": {},
   "outputs": [],
   "source": []
  }
 ],
 "metadata": {
  "kernelspec": {
   "display_name": "Python 3",
   "language": "python",
   "name": "python3"
  },
  "language_info": {
   "codemirror_mode": {
    "name": "ipython",
    "version": 3
   },
   "file_extension": ".py",
   "mimetype": "text/x-python",
   "name": "python",
   "nbconvert_exporter": "python",
   "pygments_lexer": "ipython3",
   "version": "3.8.7"
  }
 },
 "nbformat": 4,
 "nbformat_minor": 5
}

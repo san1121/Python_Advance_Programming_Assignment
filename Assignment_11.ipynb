{
 "cells": [
  {
   "cell_type": "markdown",
   "id": "received-controversy",
   "metadata": {},
   "source": [
    "1. Create a function that takes a list and returns a new list containing only prime numbers.\n",
    "\n",
    "__Ans:-__"
   ]
  },
  {
   "cell_type": "code",
   "execution_count": 1,
   "id": "million-highlight",
   "metadata": {},
   "outputs": [
    {
     "name": "stdout",
     "output_type": "stream",
     "text": [
      "[7, 3, 11]\n",
      "[1009, 3, 61, 1087, 1091, 1093, 1097]\n"
     ]
    }
   ],
   "source": [
    "from math import floor, sqrt\n",
    "def prime(num):\n",
    "    if num <= 1:\n",
    "        return False\n",
    "    while True:\n",
    "        for i in range(2, floor(sqrt(num)) + 1):\n",
    "            if not num % i:\n",
    "                return False\n",
    "        return True\n",
    "    \n",
    "def filter_primes(lis):\n",
    "    return list(filter(prime, lis))\n",
    "\n",
    "print(filter_primes([7, 9, 3, 9, 10, 11, 27]))\n",
    "print(filter_primes([1009, 10, 10, 10, 3, 33, 9, 4, 1, 61, 63, 69, 1087, 1091, 1093, 1097]))"
   ]
  },
  {
   "cell_type": "markdown",
   "id": "false-texas",
   "metadata": {},
   "source": [
    "***"
   ]
  },
  {
   "cell_type": "markdown",
   "id": "political-channels",
   "metadata": {},
   "source": [
    "2. Create a function that takes a list which takes the pre-pop state and returns the state after the balloon is popped. The pre-pop state will contain at most a single balloon, whose size is represented by the only non-zero element.\n",
    "\n",
    "__Ans:-__"
   ]
  },
  {
   "cell_type": "code",
   "execution_count": 2,
   "id": "productive-rouge",
   "metadata": {},
   "outputs": [
    {
     "name": "stdout",
     "output_type": "stream",
     "text": [
      "[0, 1, 2, 3, 4, 3, 2, 1, 0]\n",
      "[0, 1, 2, 3, 2, 1, 0]\n",
      "[0]\n"
     ]
    }
   ],
   "source": [
    "def pop(lis):\n",
    "    is_increasing = True\n",
    "    counter = -1\n",
    "    for i in range(len(lis)):\n",
    "        if lis[i] != 0:\n",
    "            counter += 1\n",
    "            is_increasing = False\n",
    "            continue\n",
    "        if is_increasing:\n",
    "            counter += 1\n",
    "            lis[i] = counter\n",
    "        else:\n",
    "            counter -= 1\n",
    "            lis[i] = counter\n",
    "        \n",
    "    return lis\n",
    "        \n",
    "print(pop([0, 0, 0, 0, 4, 0, 0, 0, 0]))\n",
    "print(pop([0, 0, 0, 3, 0, 0, 0]))\n",
    "print(pop([0]))"
   ]
  },
  {
   "cell_type": "markdown",
   "id": "representative-turkish",
   "metadata": {},
   "source": [
    "***\n",
    "  "
   ]
  },
  {
   "cell_type": "markdown",
   "id": "supposed-defense",
   "metadata": {},
   "source": [
    "3. Given a number of petals, return a string which repeats the phrases \"Loves me\" and \"Loves me not\" for every alternating petal, and return the last phrase in all caps. Remember to put a comma and space between phrases.\n",
    "\n",
    "__Ans:-__"
   ]
  },
  {
   "cell_type": "code",
   "execution_count": 3,
   "id": "exceptional-psychiatry",
   "metadata": {},
   "outputs": [
    {
     "name": "stdout",
     "output_type": "stream",
     "text": [
      "Loves me, Loves me not, LOVES ME\n",
      "Loves me, Loves me not, Loves me, Loves me not, Loves me, LOVES ME NOT\n",
      "LOVES ME\n"
     ]
    }
   ],
   "source": [
    "def loves_me(num):\n",
    "    phrase = ['Loves me', 'Loves me not']\n",
    "    \n",
    "    returned_list = list()\n",
    "    for i in range(num):\n",
    "        if i == num - 1:\n",
    "            returned_list.append(phrase[i % 2].upper())\n",
    "        else:\n",
    "            returned_list.append(phrase[i%2])\n",
    "    return ', '.join(returned_list)\n",
    "    \n",
    "    \n",
    "print(loves_me(3))\n",
    "print(loves_me(6))\n",
    "print(loves_me(1))"
   ]
  },
  {
   "cell_type": "markdown",
   "id": "present-xerox",
   "metadata": {},
   "source": [
    "***"
   ]
  },
  {
   "cell_type": "markdown",
   "id": "decreased-screening",
   "metadata": {},
   "source": [
    "4. Write a function that sorts each string in a list by the letter in alphabetic ascending order (a-z).\n",
    "\n",
    "__Ans:-__"
   ]
  },
  {
   "cell_type": "code",
   "execution_count": 4,
   "id": "trying-oxford",
   "metadata": {},
   "outputs": [
    {
     "name": "stdout",
     "output_type": "stream",
     "text": [
      "['2344b', '932c', '832u32']\n",
      "['99a', '78b', 'c2345', '11d']\n",
      "['304q2', '5y5', '572z']\n",
      "[]\n"
     ]
    }
   ],
   "source": [
    "def find_string(x):\n",
    "    for i in x:\n",
    "        if i.isalpha():\n",
    "            return i\n",
    "\n",
    "def sort_by_letter(lis):\n",
    "    return sorted(lis, key = find_string)\n",
    "print(sort_by_letter([\"932c\", \"832u32\", \"2344b\"]))\n",
    "print(sort_by_letter([\"99a\", \"78b\", \"c2345\", \"11d\"]))\n",
    "print(sort_by_letter([\"572z\", \"5y5\", \"304q2\"]))\n",
    "print(sort_by_letter([]))"
   ]
  },
  {
   "cell_type": "markdown",
   "id": "amber-operator",
   "metadata": {},
   "source": [
    "***"
   ]
  },
  {
   "cell_type": "markdown",
   "id": "executive-restoration",
   "metadata": {},
   "source": [
    "5. Create a function that returns the letter position that the ball is at, once I finish swapping the cups. The swaps will be given to you as a list.\n",
    "\n",
    "__Ans:-__"
   ]
  },
  {
   "cell_type": "code",
   "execution_count": 5,
   "id": "czech-sweet",
   "metadata": {},
   "outputs": [
    {
     "name": "stdout",
     "output_type": "stream",
     "text": [
      "C\n",
      "B\n"
     ]
    }
   ],
   "source": [
    "def cup_swapping(lis):\n",
    "    prev_ball = 'B'\n",
    "    for i in lis:\n",
    "        index = i.find(prev_ball)\n",
    "        if index >= 0:\n",
    "            prev_ball = i[len(i) - 1 - index]\n",
    "    return prev_ball\n",
    "print(cup_swapping([\"AB\", \"CA\", \"AB\"]))\n",
    "print(cup_swapping(['CA','AC','AB','BC','AB']))"
   ]
  },
  {
   "cell_type": "code",
   "execution_count": null,
   "id": "worst-immunology",
   "metadata": {},
   "outputs": [],
   "source": []
  }
 ],
 "metadata": {
  "kernelspec": {
   "display_name": "Python 3",
   "language": "python",
   "name": "python3"
  },
  "language_info": {
   "codemirror_mode": {
    "name": "ipython",
    "version": 3
   },
   "file_extension": ".py",
   "mimetype": "text/x-python",
   "name": "python",
   "nbconvert_exporter": "python",
   "pygments_lexer": "ipython3",
   "version": "3.8.7"
  }
 },
 "nbformat": 4,
 "nbformat_minor": 5
}

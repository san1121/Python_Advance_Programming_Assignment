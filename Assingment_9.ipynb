{
 "cells": [
  {
   "cell_type": "markdown",
   "id": "fuzzy-generation",
   "metadata": {},
   "source": [
    "1. YouTube offers different playback speed options for users. This allows users to increase or decrease the speed of the video content. Given the actual duration and playback speed of the video, calculate the playback duration of the video.\n",
    "\n",
    "__Ans:-__"
   ]
  },
  {
   "cell_type": "code",
   "execution_count": 1,
   "id": "further-catering",
   "metadata": {},
   "outputs": [
    {
     "name": "stdout",
     "output_type": "stream",
     "text": [
      "102:40:18\n",
      "00:53:20\n",
      "00:15:00\n"
     ]
    }
   ],
   "source": [
    "import time\n",
    "def playback_duration(string, speed):\n",
    "    lis = string.split(':')\n",
    "    counter = 3600\n",
    "    total_seconds = 0\n",
    "    for i in lis:\n",
    "        total_seconds += int(i) * counter\n",
    "        counter //=60\n",
    "    \n",
    "    result_string = time.strftime(\"%d:%H:%M:%S\", time.gmtime(total_seconds/speed))\n",
    "    \n",
    "    if int(result_string[0:2]) > 1:\n",
    "        total_hours = (int(result_string[0:2]) - 1) * 24 + int(result_string[3:5])\n",
    "        return result_string.replace(result_string[0:5], str(total_hours))\n",
    "    else:\n",
    "        return result_string[3:]\n",
    "    \n",
    "print(playback_duration(\"51:20:09\", 0.5))\n",
    "print(playback_duration(\"01:20:00\", 1.5))\n",
    "print(playback_duration(\"00:30:00\", 2))"
   ]
  },
  {
   "cell_type": "markdown",
   "id": "indie-klein",
   "metadata": {},
   "source": [
    "***"
   ]
  },
  {
   "cell_type": "markdown",
   "id": "specialized-feeding",
   "metadata": {},
   "source": [
    "2. We needs your help to construct a building which will be a pile of n cubes. The cube at the bottom will have a volume of n^3, the cube above will have volume of (n-1)^3 and so on until the top which will have a volume of 1^3.\n",
    "\n",
    "    Given the total volume m of the building, can you find the number of cubes n required for the building?\n",
    "\n",
    "    In other words, you have to return an integer n such that:\n",
    "\n",
    "    n^3 + (n-1)^3 + ... + 1^3 == m\n",
    "\n",
    "    Return None if there is no such number.\n",
    "\n",
    "__Ans:-__"
   ]
  },
  {
   "cell_type": "code",
   "execution_count": 2,
   "id": "authentic-spoke",
   "metadata": {},
   "outputs": [
    {
     "name": "stdout",
     "output_type": "stream",
     "text": [
      "45\n",
      "2022\n",
      "None\n"
     ]
    }
   ],
   "source": [
    "from math import sqrt\n",
    "def pile_of_cubes(volume):\n",
    "    b = -4 * (-sqrt(volume) * 2)\n",
    "    sol1 = round((-1 + sqrt(b))/2,2)\n",
    "    return int(sol1) if str(sol1)[-1] == '0' else None\n",
    "    \n",
    "print(pile_of_cubes(1071225))\n",
    "print(pile_of_cubes(4183059834009))\n",
    "print(pile_of_cubes(16))"
   ]
  },
  {
   "cell_type": "markdown",
   "id": "dressed-librarian",
   "metadata": {},
   "source": [
    "***"
   ]
  },
  {
   "cell_type": "markdown",
   "id": "jewish-orlando",
   "metadata": {},
   "source": [
    "3. A fulcrum of a list is an integer such that all elements to the left of it and all elements to the right of it sum to the same value. Write a function that finds the fulcrum of a list.\n",
    "\n",
    "    To illustrate:\n",
    "\n",
    "    find_fulcrum([3, 1, 5, 2, 4, 6, -1]) ➞ 2\n",
    "\n",
    "__Ans:-__"
   ]
  },
  {
   "cell_type": "code",
   "execution_count": 3,
   "id": "collected-trinidad",
   "metadata": {},
   "outputs": [
    {
     "name": "stdout",
     "output_type": "stream",
     "text": [
      "2\n",
      "4\n",
      "1\n",
      "0\n",
      "-1\n"
     ]
    }
   ],
   "source": [
    "def find_fulcrum(lis):\n",
    "    addition_lis = [lis[0]]\n",
    "    \n",
    "    for index, i in enumerate(lis[1:]):\n",
    "        addition_lis.append(addition_lis[index] + lis[index + 1])\n",
    "    \n",
    "    previous_sum = lis[len(lis) - 1]   \n",
    "    for i in range(len(lis) - 2, 0, -1):\n",
    "        previous_sum += lis[i]\n",
    "        if addition_lis[i] == previous_sum:\n",
    "            return lis[i]\n",
    "    \n",
    "    return -1\n",
    "    \n",
    "    \n",
    "print(find_fulcrum([3, 1, 5, 2, 4, 6, -1]))\n",
    "print(find_fulcrum([1, 2, 4, 9, 10, -10, -9, 3]))\n",
    "print(find_fulcrum([9, 1, 9]))\n",
    "print(find_fulcrum([7, -1, 0, -1, 1, 1, 2, 3]))\n",
    "print(find_fulcrum([8, 8, 8, 8]))"
   ]
  },
  {
   "cell_type": "markdown",
   "id": "weird-shopper",
   "metadata": {},
   "source": [
    "***"
   ]
  },
  {
   "cell_type": "markdown",
   "id": "unavailable-employer",
   "metadata": {},
   "source": [
    "4. Given a list of integers representing the color of each sock, determine how many pairs of socks with matching colors there are. For example, there are 7 socks with colors [1, 2, 1, 2, 1, 3, 2]. There is one pair of color 1 and one of color 2. There are three odd socks left, one of each color. The number of pairs is 2.\n",
    "\n",
    "    Create a function that returns an integer representing the number of matching pairs of socks that are available.\n",
    "\n",
    "__Ans:-__"
   ]
  },
  {
   "cell_type": "code",
   "execution_count": 4,
   "id": "engaging-attachment",
   "metadata": {},
   "outputs": [
    {
     "name": "stdout",
     "output_type": "stream",
     "text": [
      "3\n",
      "4\n"
     ]
    }
   ],
   "source": [
    "def sock_merchant(lis):\n",
    "    seen = set()\n",
    "    pairs = 0\n",
    "    \n",
    "    for i in lis:\n",
    "        if i not in seen:\n",
    "            seen.add(i)\n",
    "        else:\n",
    "            pairs += 1\n",
    "            seen.remove(i)\n",
    "    return pairs\n",
    "print(sock_merchant([10, 20, 20, 10, 10, 30, 50, 10, 20]))\n",
    "print(sock_merchant([50, 20, 30, 90, 30, 20, 50, 20, 90]))"
   ]
  },
  {
   "cell_type": "markdown",
   "id": "tired-nightmare",
   "metadata": {},
   "source": [
    "***"
   ]
  },
  {
   "cell_type": "markdown",
   "id": "complex-violation",
   "metadata": {},
   "source": [
    "5. Create a function that takes a string containing integers as well as other characters and return the sum of the negative integers only.\n",
    "\n",
    "__Ans:-__"
   ]
  },
  {
   "cell_type": "code",
   "execution_count": 5,
   "id": "changing-stationery",
   "metadata": {},
   "outputs": [
    {
     "name": "stdout",
     "output_type": "stream",
     "text": [
      "-33\n",
      "-23\n"
     ]
    }
   ],
   "source": [
    "import re\n",
    "from functools import reduce\n",
    "def negative_sum(string):\n",
    "    return reduce(lambda x, y: int(x) + int(y), re.findall(r'-\\d+', string))\n",
    "\n",
    "print(negative_sum(\"22 13%14&-11-22 13 12\"))\n",
    "print(negative_sum(\"-12 13%14&-11\"))"
   ]
  }
 ],
 "metadata": {
  "kernelspec": {
   "display_name": "Python 3",
   "language": "python",
   "name": "python3"
  },
  "language_info": {
   "codemirror_mode": {
    "name": "ipython",
    "version": 3
   },
   "file_extension": ".py",
   "mimetype": "text/x-python",
   "name": "python",
   "nbconvert_exporter": "python",
   "pygments_lexer": "ipython3",
   "version": "3.8.7"
  }
 },
 "nbformat": 4,
 "nbformat_minor": 5
}
